{
 "cells": [
  {
   "cell_type": "code",
   "execution_count": 1,
   "metadata": {},
   "outputs": [],
   "source": [
    "import pandas as pd\n",
    "import numpy as np"
   ]
  },
  {
   "cell_type": "code",
   "execution_count": 2,
   "metadata": {},
   "outputs": [],
   "source": [
    "# 채용 정보별 columns를 하나의 문자열로 묶어서 하나의 column에 저장\n",
    "\n",
    "df = pd.read_csv('../crawling/data_df.csv')\n",
    "columns = df.columns\n",
    "\n",
    "def combine_func(row):\n",
    "    return \"// \".join([str(row[col]) for col in columns])\n",
    "\n",
    "df[\"combined\"] = df.apply(combine_func, axis=1)\n",
    "embeddings = pd.DataFrame(df[\"combined\"])\n",
    "embeddings.columns = ['data']"
   ]
  },
  {
   "cell_type": "code",
   "execution_count": 3,
   "metadata": {},
   "outputs": [],
   "source": [
    "# 토큰화\n",
    "\n",
    "import tiktoken\n",
    "\n",
    "tokenizer = tiktoken.get_encoding(\"cl100k_base\")\n",
    "embeddings['n_tokens'] = embeddings.data.apply(lambda x: len(tokenizer.encode(x)))"
   ]
  },
  {
   "cell_type": "code",
   "execution_count": 12,
   "metadata": {},
   "outputs": [
    {
     "data": {
      "text/plain": [
       "<Axes: >"
      ]
     },
     "execution_count": 12,
     "metadata": {},
     "output_type": "execute_result"
    },
    {
     "data": {
      "image/png": "[encoded data removed]",
      "text/plain": [
       "<Figure size 640x480 with 1 Axes>"
      ]
     },
     "metadata": {},
     "output_type": "display_data"
    }
   ],
   "source": [
    "embeddings.n_tokens.hist()"
   ]
  },
  {
   "cell_type": "code",
   "execution_count": 13,
   "metadata": {},
   "outputs": [],
   "source": [
    "# max_tokens = 500\n",
    "# def split_into_many(text, max_tokens = max_tokens):\n",
    "\n",
    "#     # 일단 문장으로 쪼개기\n",
    "#     sentences = text.split('. ')\n",
    "\n",
    "#     # 문장마다 몇 토큰 들어가는지 세어 주기.\n",
    "#     n_tokens = [len(tokenizer.encode(\" \" + sentence)) for sentence in sentences]\n",
    "    \n",
    "#     chunks = []\n",
    "#     tokens_so_far = 0\n",
    "#     chunk = []\n",
    "\n",
    "\n",
    "#     for sentence, token in zip(sentences, n_tokens):\n",
    "\n",
    "#         # 문장의 토큰 수와 현재까지의 토큰 수의 합이 최대 토큰 수를 초과하면, 해당 청크를 청크 목록에 추가하고 청크 및 현재까지의 토큰 수를 초기화한다.\n",
    "#         if tokens_so_far + token > max_tokens:\n",
    "#             chunks.append(\". \".join(chunk) + \".\")\n",
    "#             chunk = []\n",
    "#             tokens_so_far = 0\n",
    "\n",
    "\n",
    "#         if token > max_tokens:\n",
    "#             continue\n",
    "\n",
    "#         chunk.append(sentence)\n",
    "#         tokens_so_far += token + 1\n",
    "\n",
    "#     if chunk:\n",
    "#         chunks.append(\". \".join(chunk) + \".\")\n",
    "\n",
    "#     return chunks"
   ]
  },
  {
   "cell_type": "code",
   "execution_count": 3,
   "metadata": {},
   "outputs": [],
   "source": [
    "import os\n",
    "from openai import OpenAI\n",
    "import openai\n",
    "client = OpenAI()\n",
    "openai.api_key  = os.getenv('OPENAI_API_KEY')"
   ]
  },
  {
   "cell_type": "code",
   "execution_count": 4,
   "metadata": {},
   "outputs": [
    {
     "data": {
      "text/html": [
       "<div>\n",
       "<style scoped>\n",
       "    .dataframe tbody tr th:only-of-type {\n",
       "        vertical-align: middle;\n",
       "    }\n",
       "\n",
       "    .dataframe tbody tr th {\n",
       "        vertical-align: top;\n",
       "    }\n",
       "\n",
       "    .dataframe thead th {\n",
       "        text-align: right;\n",
       "    }\n",
       "</style>\n",
       "<table border=\"1\" class=\"dataframe\">\n",
       "  <thead>\n",
       "    <tr style=\"text-align: right;\">\n",
       "      <th></th>\n",
       "      <th>data</th>\n",
       "      <th>embeddings</th>\n",
       "    </tr>\n",
       "  </thead>\n",
       "  <tbody>\n",
       "    <tr>\n",
       "      <th>0</th>\n",
       "      <td>21310// 개발 팀장// 한국해양기상기술// 한국 해양 기상 기술은 해양,기상환...</td>\n",
       "      <td>[0.006333442870527506, -0.0012947228970006108,...</td>\n",
       "    </tr>\n",
       "    <tr>\n",
       "      <th>1</th>\n",
       "      <td>21110// [Moloco] Senior Data Scientist// 몰로코//...</td>\n",
       "      <td>[-0.01246270164847374, -0.012198425829410553, ...</td>\n",
       "    </tr>\n",
       "    <tr>\n",
       "      <th>2</th>\n",
       "      <td>20853// AI 엔지니어// 피매치// \"고객이 자기주도적으로 웰니스를 실현하는...</td>\n",
       "      <td>[-0.006364488508552313, -0.011195365339517593,...</td>\n",
       "    </tr>\n",
       "    <tr>\n",
       "      <th>3</th>\n",
       "      <td>21851// JAVA 백엔드 개발자(차장급)// 아파트아이// 아파트아이란?\\n ...</td>\n",
       "      <td>[0.0037601562216877937, -0.01637846976518631, ...</td>\n",
       "    </tr>\n",
       "    <tr>\n",
       "      <th>4</th>\n",
       "      <td>22041// [5년 이상 리더급] 풀스택 소프트웨어 엔지니어// 다이얼로그디자인에...</td>\n",
       "      <td>[-0.009879649616777897, -0.016573673114180565,...</td>\n",
       "    </tr>\n",
       "  </tbody>\n",
       "</table>\n",
       "</div>"
      ],
      "text/plain": [
       "                                                data  \\\n",
       "0  21310// 개발 팀장// 한국해양기상기술// 한국 해양 기상 기술은 해양,기상환...   \n",
       "1  21110// [Moloco] Senior Data Scientist// 몰로코//...   \n",
       "2  20853// AI 엔지니어// 피매치// \"고객이 자기주도적으로 웰니스를 실현하는...   \n",
       "3  21851// JAVA 백엔드 개발자(차장급)// 아파트아이// 아파트아이란?\\n ...   \n",
       "4  22041// [5년 이상 리더급] 풀스택 소프트웨어 엔지니어// 다이얼로그디자인에...   \n",
       "\n",
       "                                          embeddings  \n",
       "0  [0.006333442870527506, -0.0012947228970006108,...  \n",
       "1  [-0.01246270164847374, -0.012198425829410553, ...  \n",
       "2  [-0.006364488508552313, -0.011195365339517593,...  \n",
       "3  [0.0037601562216877937, -0.01637846976518631, ...  \n",
       "4  [-0.009879649616777897, -0.016573673114180565,...  "
      ]
     },
     "execution_count": 4,
     "metadata": {},
     "output_type": "execute_result"
    }
   ],
   "source": [
    "# embedding 값 추가\n",
    "\n",
    "embeddings['embeddings'] = embeddings.data.apply(lambda x: client.embeddings.create(input=x, model='text-embedding-ada-002').data[0].embedding)\n",
    "embeddings.to_csv('embeddings.csv', encoding='utf-8', index=False)\n",
    "embeddings.head()"
   ]
  },
  {
   "cell_type": "code",
   "execution_count": 15,
   "metadata": {},
   "outputs": [],
   "source": [
    "# 코사인 유사도를 구해서 유사한 문맥 찾기\n",
    "\n",
    "from scipy.spatial.distance import cosine\n",
    "\n",
    "def create_context(\n",
    "    question, df, max_len=1800\n",
    "):\n",
    "    \"\"\"\n",
    "    데이터 프레임으로부터 가장 유사한 문맥을 찾아서 질문에 대한 문맥을 만든다.\n",
    "    \"\"\"\n",
    "\n",
    "    # 질문으로부터 임베딩을 만든다.\n",
    "    q_embeddings = client.embeddings.create(input=question, model='text-embedding-3-small').data[0].embedding\n",
    "\n",
    "    # 임베딩으로부터 거리를 계산한다.\n",
    "    df[\"distances\"] = df[\"embeddings\"].apply(lambda x: cosine(q_embeddings, x))\n",
    "    returns = []\n",
    "    cur_len = 0\n",
    "    # 거리순으로 정렬하고, 문맥이 너무 길어지기 전까지만 텍스트를 문맥에 추가한다.\n",
    "    for i, row in df.sort_values('distances', ascending=True).iterrows():\n",
    "        \n",
    "\n",
    "        # 현재 토큰 수에 텍스트 길이를 더한다.\n",
    "        cur_len += row['n_tokens'] + 4\n",
    "        \n",
    "        # 문맥이 너무 길어지면, break\n",
    "        if cur_len > max_len:\n",
    "            break\n",
    "        \n",
    "\n",
    "        # 아니면, 문맥에 추가한다.\n",
    "        returns.append(row[\"data\"])\n",
    "\n",
    "    # Return the context\n",
    "    return \"\\n\\n###\\n\\n\".join(returns)\n",
    "\n",
    "\n",
    "# 이 함수가 하는 일 다시 정리해보자.\n",
    "# 1. 질문이 들어오면 질문을 임베딩한다. 즉, 숫자 표현으로 바꿔준다.\n",
    "# 2. 모든 문장들의 임베딩과 질문의 임베딩 사이의 거리를 계산한다.\n",
    "# 3. 문맥이 너무 길어지면 안되니까, 가장 거리가 가까운 문장부터 차례대로 문맥에 추가한다.\n",
    "# 4. 문맥을 반환한다."
   ]
  },
  {
   "cell_type": "code",
   "execution_count": 16,
   "metadata": {},
   "outputs": [],
   "source": [
    "# gpt-3.5-turbo를 활용한 QA 함수\n",
    "\n",
    "def answer_question(\n",
    "    df,\n",
    "    model=\"gpt-3.5-turbo\",\n",
    "    question=\"Am I allowed to publish model outputs to Twitter, without a human review?\",\n",
    "    max_len=1800,\n",
    "    debug=False,\n",
    "):\n",
    "    \"\"\"\n",
    "    데이터 프레임 텍스트에서 가장 유사한 문맥을 기반으로 질문에 답한다.\n",
    "    \"\"\"\n",
    "    context = create_context(\n",
    "        question,\n",
    "        df,\n",
    "        max_len=max_len,\n",
    "    )\n",
    "\n",
    "    if debug:\n",
    "        print(\"Context:\\n\" + context)\n",
    "        print(\"\\n\\n\")\n",
    "\n",
    "    try:\n",
    "        response = client.chat.completions.create(\n",
    "            model=model,\n",
    "            messages=[\n",
    "                {\"role\": \"system\", \"content\": \"Answer the question based on the context below, and if the question can't be answered based on the context, say \\\"I don't know\\\"\\n\\n\"},\n",
    "                {\"role\": \"user\", \"content\": f\"Context: {context}\\n\\n---\\n\\n Question: {question}\"}\n",
    "            ],\n",
    "            temperature=0,\n",
    "        )\n",
    "        return response.choices[0].message.content\n",
    "    except Exception as e:\n",
    "        print(\"Error occurred:\", e)\n",
    "        return \"\""
   ]
  },
  {
   "cell_type": "code",
   "execution_count": 17,
   "metadata": {},
   "outputs": [
    {
     "data": {
      "text/plain": [
       "\"I don't know.\""
      ]
     },
     "execution_count": 17,
     "metadata": {},
     "output_type": "execute_result"
    }
   ],
   "source": [
    "answer_question(embeddings, question=\"What day is it?\", debug=False)"
   ]
  },
  {
   "cell_type": "code",
   "execution_count": 19,
   "metadata": {},
   "outputs": [
    {
     "data": {
      "text/plain": [
       "'뉴로다임에서 일을 할 수 있습니다.'"
      ]
     },
     "execution_count": 19,
     "metadata": {},
     "output_type": "execute_result"
    }
   ],
   "source": [
    "answer_question(embeddings, question=\"python을 할 줄 알면, 어떤 회사에서 일을 할 수 있어?\", debug=False)"
   ]
  },
  {
   "cell_type": "code",
   "execution_count": 20,
   "metadata": {},
   "outputs": [
    {
     "data": {
      "text/plain": [
       "'뉴로다임은 2016년에 설립된 전문 인공지능 연구 개발 회사로, 글로벌 시장을 겨냥한 작지만 강한 AI 연구 기업입니다.'"
      ]
     },
     "execution_count": 20,
     "metadata": {},
     "output_type": "execute_result"
    }
   ],
   "source": [
    "answer_question(embeddings, question=\"뉴로다임은 어떤 회사야?\", debug=False)"
   ]
  },
  {
   "cell_type": "code",
   "execution_count": 23,
   "metadata": {},
   "outputs": [
    {
     "data": {
      "text/plain": [
       "'그릿스탠다드는 TypeScript를 필요로 하는 회사입니다.'"
      ]
     },
     "execution_count": 23,
     "metadata": {},
     "output_type": "execute_result"
    }
   ],
   "source": [
    "answer_question(embeddings, question=\"그릿스탠다드는 어떤 프로그래밍 언어를 필요로 하는 회사야?\", debug=False)"
   ]
  },
  {
   "cell_type": "code",
   "execution_count": 25,
   "metadata": {},
   "outputs": [
    {
     "data": {
      "text/plain": [
       "'To work as a server/backend developer, you should know Java and JavaScript (Node.js) programming languages.'"
      ]
     },
     "execution_count": 25,
     "metadata": {},
     "output_type": "execute_result"
    }
   ],
   "source": [
    "answer_question(embeddings, question=\"서버/백엔드 개발자로 일하려면 어떤 프로그래밍 언어를 알아야할까?\", debug=False)"
   ]
  },
  {
   "cell_type": "code",
   "execution_count": 26,
   "metadata": {},
   "outputs": [
    {
     "data": {
      "text/plain": [
       "'Based on the context, AI 개발자로 일하려면 Python 혹은 Java 등의 프로그래밍 언어를 알아야 합니다.'"
      ]
     },
     "execution_count": 26,
     "metadata": {},
     "output_type": "execute_result"
    }
   ],
   "source": [
    "answer_question(embeddings, question=\"AI 개발자로 일하려면 어떤 프로그래밍 언어를 알아야할까?\", debug=False)"
   ]
  },
  {
   "cell_type": "code",
   "execution_count": 29,
   "metadata": {},
   "outputs": [
    {
     "data": {
      "text/plain": [
       "'뉴로다임은 자유 복장 및 자유로운 연차 사용 가능, 휴게실 제공, 인센티브제, 우수사원포상제, 스톱옵션, 경조사 지원 등의 복리 후생을 제공합니다.'"
      ]
     },
     "execution_count": 29,
     "metadata": {},
     "output_type": "execute_result"
    }
   ],
   "source": [
    "answer_question(embeddings, question=\"뉴로다임은 어떤 복리 후생을 제공해?\", debug=False)"
   ]
  },
  {
   "cell_type": "code",
   "execution_count": 30,
   "metadata": {},
   "outputs": [
    {
     "data": {
      "text/plain": [
       "'Based on the context, if you know Python, you can work as a \"파이썬 프로그램 개발자\" (Python Program Developer) at \"뉴로다임\" (Neurodime) or as a \"기술지원\" (Technical Support) at \"에스엔에이\" (SNA).'"
      ]
     },
     "execution_count": 30,
     "metadata": {},
     "output_type": "execute_result"
    }
   ],
   "source": [
    "answer_question(embeddings, question=\"python을 할 줄 알면, 어떤 직무로 일을 할 수 있어?\", debug=False)"
   ]
  },
  {
   "cell_type": "code",
   "execution_count": null,
   "metadata": {},
   "outputs": [],
   "source": []
  }
 ],
 "metadata": {
  "kernelspec": {
   "display_name": "Python 3",
   "language": "python",
   "name": "python3"
  },
  "language_info": {
   "codemirror_mode": {
    "name": "ipython",
    "version": 3
   },
   "file_extension": ".py",
   "mimetype": "text/x-python",
   "name": "python",
   "nbconvert_exporter": "python",
   "pygments_lexer": "ipython3",
   "version": "3.12.1"
  }
 },
 "nbformat": 4,
 "nbformat_minor": 2
}
