{
 "cells": [
  {
   "cell_type": "code",
   "execution_count": 22,
   "metadata": {},
   "outputs": [
    {
     "data": {
      "text/plain": [
       "array(['and', 'document', 'first', 'is', 'one', 'second', 'the', 'third',\n",
       "       'this'], dtype=object)"
      ]
     },
     "execution_count": 22,
     "metadata": {},
     "output_type": "execute_result"
    }
   ],
   "source": [
    "import pandas as pd\n",
    "import numpy as np\n",
    "from sklearn.feature_extraction.text import TfidfVectorizer\n",
    "corpus = [\n",
    "    'This is the first document.',\n",
    "    'This document is the second document.',\n",
    "    'And this is the third one.',\n",
    "    'Is this the first document?',\n",
    "]\n",
    "\n",
    "# Document Term Matrix\n",
    "vectorizer = TfidfVectorizer()\n",
    "X = vectorizer.fit_transform(corpus)\n",
    "vectorizer.get_feature_names_out()\n",
    "# print(X.shape)"
   ]
  },
  {
   "cell_type": "code",
   "execution_count": 23,
   "metadata": {},
   "outputs": [
    {
     "data": {
      "text/plain": [
       "array([[0.        , 0.46979139, 0.58028582, 0.38408524, 0.        ,\n",
       "        0.        , 0.38408524, 0.        , 0.38408524],\n",
       "       [0.        , 0.6876236 , 0.        , 0.28108867, 0.        ,\n",
       "        0.53864762, 0.28108867, 0.        , 0.28108867],\n",
       "       [0.51184851, 0.        , 0.        , 0.26710379, 0.51184851,\n",
       "        0.        , 0.26710379, 0.51184851, 0.26710379],\n",
       "       [0.        , 0.46979139, 0.58028582, 0.38408524, 0.        ,\n",
       "        0.        , 0.38408524, 0.        , 0.38408524]])"
      ]
     },
     "execution_count": 23,
     "metadata": {},
     "output_type": "execute_result"
    }
   ],
   "source": [
    "X.toarray()"
   ]
  },
  {
   "cell_type": "code",
   "execution_count": 28,
   "metadata": {},
   "outputs": [
    {
     "data": {
      "text/html": [
       "<div>\n",
       "<style scoped>\n",
       "    .dataframe tbody tr th:only-of-type {\n",
       "        vertical-align: middle;\n",
       "    }\n",
       "\n",
       "    .dataframe tbody tr th {\n",
       "        vertical-align: top;\n",
       "    }\n",
       "\n",
       "    .dataframe thead th {\n",
       "        text-align: right;\n",
       "    }\n",
       "</style>\n",
       "<table border=\"1\" class=\"dataframe\">\n",
       "  <thead>\n",
       "    <tr style=\"text-align: right;\">\n",
       "      <th></th>\n",
       "      <th>0</th>\n",
       "    </tr>\n",
       "  </thead>\n",
       "  <tbody>\n",
       "    <tr>\n",
       "      <th>0</th>\n",
       "      <td>[0.0, 0.46979138557992045, 0.5802858236844359,...</td>\n",
       "    </tr>\n",
       "    <tr>\n",
       "      <th>1</th>\n",
       "      <td>[0.0, 0.6876235979836938, 0.0, 0.2810886740337...</td>\n",
       "    </tr>\n",
       "    <tr>\n",
       "      <th>2</th>\n",
       "      <td>[0.511848512707169, 0.0, 0.0, 0.26710378764216...</td>\n",
       "    </tr>\n",
       "    <tr>\n",
       "      <th>3</th>\n",
       "      <td>[0.0, 0.46979138557992045, 0.5802858236844359,...</td>\n",
       "    </tr>\n",
       "  </tbody>\n",
       "</table>\n",
       "</div>"
      ],
      "text/plain": [
       "                                                   0\n",
       "0  [0.0, 0.46979138557992045, 0.5802858236844359,...\n",
       "1  [0.0, 0.6876235979836938, 0.0, 0.2810886740337...\n",
       "2  [0.511848512707169, 0.0, 0.0, 0.26710378764216...\n",
       "3  [0.0, 0.46979138557992045, 0.5802858236844359,..."
      ]
     },
     "execution_count": 28,
     "metadata": {},
     "output_type": "execute_result"
    }
   ],
   "source": [
    "# # Term Freqeuncy\n",
    "# tf = pd.DataFrame(X.toarray(), columns = vectorizer.get_feature_names_out())\n",
    "# tf\n",
    "# Term Freqeuncy\n",
    "tf = pd.DataFrame([list(X.toarray())]).transpose()\n",
    "tf"
   ]
  },
  {
   "cell_type": "code",
   "execution_count": 4,
   "metadata": {},
   "outputs": [
    {
     "data": {
      "text/plain": [
       "and         1\n",
       "document    3\n",
       "first       2\n",
       "is          4\n",
       "one         1\n",
       "second      1\n",
       "the         4\n",
       "third       1\n",
       "this        4\n",
       "dtype: int64"
      ]
     },
     "execution_count": 4,
     "metadata": {},
     "output_type": "execute_result"
    }
   ],
   "source": [
    "# Document Frequency \n",
    "df = tf.astype(bool).sum(axis = 0)\n",
    "df"
   ]
  },
  {
   "cell_type": "code",
   "execution_count": 14,
   "metadata": {},
   "outputs": [
    {
     "data": {
      "text/plain": [
       "and         0.693147\n",
       "document    0.000000\n",
       "first       0.287682\n",
       "is         -0.223144\n",
       "one         0.693147\n",
       "second      0.693147\n",
       "the        -0.223144\n",
       "third       0.693147\n",
       "this       -0.223144\n",
       "dtype: float64"
      ]
     },
     "execution_count": 14,
     "metadata": {},
     "output_type": "execute_result"
    }
   ],
   "source": [
    "# 문서 개수\n",
    "D = len(tf)\n",
    "\n",
    "# Inverse Document Frequency\n",
    "idf = np.log((D) / (df+1))\n",
    "idf"
   ]
  },
  {
   "cell_type": "code",
   "execution_count": 16,
   "metadata": {},
   "outputs": [
    {
     "data": {
      "text/html": [
       "<div>\n",
       "<style scoped>\n",
       "    .dataframe tbody tr th:only-of-type {\n",
       "        vertical-align: middle;\n",
       "    }\n",
       "\n",
       "    .dataframe tbody tr th {\n",
       "        vertical-align: top;\n",
       "    }\n",
       "\n",
       "    .dataframe thead th {\n",
       "        text-align: right;\n",
       "    }\n",
       "</style>\n",
       "<table border=\"1\" class=\"dataframe\">\n",
       "  <thead>\n",
       "    <tr style=\"text-align: right;\">\n",
       "      <th></th>\n",
       "      <th>and</th>\n",
       "      <th>document</th>\n",
       "      <th>first</th>\n",
       "      <th>is</th>\n",
       "      <th>one</th>\n",
       "      <th>second</th>\n",
       "      <th>the</th>\n",
       "      <th>third</th>\n",
       "      <th>this</th>\n",
       "    </tr>\n",
       "  </thead>\n",
       "  <tbody>\n",
       "    <tr>\n",
       "      <th>0</th>\n",
       "      <td>0.000000</td>\n",
       "      <td>0.0</td>\n",
       "      <td>0.74728</td>\n",
       "      <td>-0.383655</td>\n",
       "      <td>0.000000</td>\n",
       "      <td>0.000000</td>\n",
       "      <td>-0.383655</td>\n",
       "      <td>0.000000</td>\n",
       "      <td>-0.383655</td>\n",
       "    </tr>\n",
       "    <tr>\n",
       "      <th>1</th>\n",
       "      <td>0.000000</td>\n",
       "      <td>0.0</td>\n",
       "      <td>0.00000</td>\n",
       "      <td>-0.161306</td>\n",
       "      <td>0.000000</td>\n",
       "      <td>0.960178</td>\n",
       "      <td>-0.161306</td>\n",
       "      <td>0.000000</td>\n",
       "      <td>-0.161306</td>\n",
       "    </tr>\n",
       "    <tr>\n",
       "      <th>2</th>\n",
       "      <td>0.569372</td>\n",
       "      <td>0.0</td>\n",
       "      <td>0.00000</td>\n",
       "      <td>-0.095652</td>\n",
       "      <td>0.569372</td>\n",
       "      <td>0.000000</td>\n",
       "      <td>-0.095652</td>\n",
       "      <td>0.569372</td>\n",
       "      <td>-0.095652</td>\n",
       "    </tr>\n",
       "    <tr>\n",
       "      <th>3</th>\n",
       "      <td>0.000000</td>\n",
       "      <td>0.0</td>\n",
       "      <td>0.74728</td>\n",
       "      <td>-0.383655</td>\n",
       "      <td>0.000000</td>\n",
       "      <td>0.000000</td>\n",
       "      <td>-0.383655</td>\n",
       "      <td>0.000000</td>\n",
       "      <td>-0.383655</td>\n",
       "    </tr>\n",
       "  </tbody>\n",
       "</table>\n",
       "</div>"
      ],
      "text/plain": [
       "        and  document    first        is       one    second       the  \\\n",
       "0  0.000000       0.0  0.74728 -0.383655  0.000000  0.000000 -0.383655   \n",
       "1  0.000000       0.0  0.00000 -0.161306  0.000000  0.960178 -0.161306   \n",
       "2  0.569372       0.0  0.00000 -0.095652  0.569372  0.000000 -0.095652   \n",
       "3  0.000000       0.0  0.74728 -0.383655  0.000000  0.000000 -0.383655   \n",
       "\n",
       "      third      this  \n",
       "0  0.000000 -0.383655  \n",
       "1  0.000000 -0.161306  \n",
       "2  0.569372 -0.095652  \n",
       "3  0.000000 -0.383655  "
      ]
     },
     "execution_count": 16,
     "metadata": {},
     "output_type": "execute_result"
    }
   ],
   "source": [
    "# TF-IDF\n",
    "tfidf = tf * idf                      \n",
    "tfidf = tfidf / np.linalg.norm(tfidf, axis = 1, keepdims = True)\n",
    "tfidf"
   ]
  },
  {
   "cell_type": "code",
   "execution_count": null,
   "metadata": {},
   "outputs": [],
   "source": [
    "from sklearn.feature_extraction.text import TfidfVectorizer\n",
    "from sklearn.metrics.pairwise import cosine_similarity\n",
    "\n",
    "# 예시 텍스트 데이터\n",
    "documents = [\n",
    "    \"This is the first document.\",\n",
    "    \"This document is the second document.\",\n",
    "    \"And this is the third one.\",\n",
    "    \"Is this the first document?\",\n",
    "    \"The last document is here.\"\n",
    "]\n",
    "\n",
    "# TF-IDF 벡터화\n",
    "tfidf_vectorizer = TfidfVectorizer()\n",
    "tfidf_matrix = tfidf_vectorizer.fit_transform(documents)\n",
    "\n",
    "# 특정 문서의 TF-IDF 벡터 얻기\n",
    "query = \"This is the second document.\"\n",
    "query_vector = tfidf_vectorizer.transform([query])\n",
    "\n",
    "# 코사인 유사도 계산\n",
    "cosine_similarities = cosine_similarity(query_vector, tfidf_matrix).flatten()\n",
    "\n",
    "# 유사도가 높은 순으로 정렬된 인덱스 얻기\n",
    "sorted_indices = cosine_similarities.argsort()[::-1]\n",
    "\n",
    "# 상위 몇 개의 문서를 출력\n",
    "top_k = 3\n",
    "for i in range(top_k):\n",
    "    print(f\"Similarity with Document {sorted_indices[i]}: {cosine_similarities[sorted_indices[i]]:.2f}\")\n",
    "    print(f\"Document {sorted_indices[i]}: {documents[sorted_indices[i]]}\\n\")\n"
   ]
  },
  {
   "cell_type": "code",
   "execution_count": 11,
   "metadata": {},
   "outputs": [
    {
     "name": "stdout",
     "output_type": "stream",
     "text": [
      "Document 0 Embedding:\n",
      "[0.         0.42712001 0.6116585  0.         0.36125537 0.\n",
      " 0.         0.         0.36125537 0.         0.42712001]\n",
      "\n",
      "Document 1 Embedding:\n",
      "[0.         0.64612571 0.         0.         0.2732445  0.\n",
      " 0.         0.57343426 0.2732445  0.         0.32306286]\n",
      "\n",
      "Document 2 Embedding:\n",
      "[0.51492278 0.         0.         0.         0.24536346 0.\n",
      " 0.51492278 0.         0.24536346 0.51492278 0.29009851]\n",
      "\n",
      "Document 3 Embedding:\n",
      "[0.         0.42712001 0.6116585  0.         0.36125537 0.\n",
      " 0.         0.         0.36125537 0.         0.42712001]\n",
      "\n",
      "Document 4 Embedding:\n",
      "[0.         0.33841126 0.         0.60067757 0.28622608 0.60067757\n",
      " 0.         0.         0.28622608 0.         0.        ]\n",
      "\n"
     ]
    }
   ],
   "source": [
    "from sklearn.feature_extraction.text import TfidfVectorizer\n",
    "import numpy as np\n",
    "\n",
    "# 예시 텍스트 데이터\n",
    "documents = [\n",
    "    \"This is the first document.\",\n",
    "    \"This document is the second document.\",\n",
    "    \"And this is the third one.\",\n",
    "    \"Is this the first document?\",\n",
    "    \"The last document is here.\"\n",
    "]\n",
    "\n",
    "# TF-IDF 벡터화\n",
    "tfidf_vectorizer = TfidfVectorizer()\n",
    "tfidf_matrix = tfidf_vectorizer.fit_transform(documents)\n",
    "\n",
    "# TF-IDF 벡터를 numpy 배열로 변환하여 각 문서의 임베딩 얻기\n",
    "document_embeddings = np.array(tfidf_matrix.toarray())\n",
    "\n",
    "# 결과 출력\n",
    "for i, embedding in enumerate(document_embeddings):\n",
    "    print(f\"Document {i} Embedding:\")\n",
    "    print(embedding)\n",
    "    print()\n"
   ]
  }
 ],
 "metadata": {
  "kernelspec": {
   "display_name": "Python 3",
   "language": "python",
   "name": "python3"
  },
  "language_info": {
   "codemirror_mode": {
    "name": "ipython",
    "version": 3
   },
   "file_extension": ".py",
   "mimetype": "text/x-python",
   "name": "python",
   "nbconvert_exporter": "python",
   "pygments_lexer": "ipython3",
   "version": "3.12.1"
  }
 },
 "nbformat": 4,
 "nbformat_minor": 2
}
