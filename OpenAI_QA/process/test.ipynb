{
 "cells": [
  {
   "cell_type": "markdown",
   "metadata": {},
   "source": [
    "## 테스트 코드"
   ]
  },
  {
   "cell_type": "code",
   "execution_count": 1,
   "metadata": {},
   "outputs": [],
   "source": [
    "import os\n",
    "import pandas as pd\n",
    "import openai\n",
    "from openai import OpenAI\n",
    "from scipy.spatial.distance import cosine\n",
    "client = OpenAI()\n",
    "openai.api_key = os.environ[\"OPENAI_API_KEY\"]"
   ]
  },
  {
   "cell_type": "code",
   "execution_count": 14,
   "metadata": {},
   "outputs": [],
   "source": [
    "df = pd.read_pickle(\"./job-processed2.pkl\")\n",
    "def create_context(\n",
    "    question, df, max_len=3000\n",
    "):\n",
    "    q_embeddings = client.embeddings.create(input=question, model='text-embedding-ada-002').data[0].embedding\n",
    "    df[\"distances\"] = df[\"embedding\"].apply(lambda x: cosine(q_embeddings, x))\n",
    "    returns = []\n",
    "    cur_len = 0\n",
    "    for _, row in df.sort_values('distances', ascending=True).iterrows():\n",
    "        cur_len += row['n_tokens'] + 4\n",
    "        if cur_len > max_len:\n",
    "            break\n",
    "        returns.append(row[\"combined\"])\n",
    "    return \"\\n\\n===\\n\\n\".join(returns)\n",
    "\n",
    "\n",
    "def answer_question(\n",
    "    df,\n",
    "    model=\"gpt-3.5-turbo\",\n",
    "    question=\"python을 할 줄 알면, 어떤 회사에서 일을 할 수 있어?\",\n",
    "    max_len=3000,\n",
    "    debug=False,\n",
    "):\n",
    "    context = create_context(\n",
    "        question,\n",
    "        df,\n",
    "        max_len=max_len,\n",
    "    )\n",
    "    if debug:\n",
    "        print(\"Context:\\n\" + context)\n",
    "        print(\"\\n\\n\")\n",
    "\n",
    "    try:\n",
    "        response = client.chat.completions.create(\n",
    "            model=model,\n",
    "            messages=[\n",
    "                # {\"role\": \"system\", \"content\": \"Answer the question based on the context below, and if the question can't be answered based on the context, say \\\"I don't know\\\"\\n\\n\"},\n",
    "                # {\"role\": \"user\", \"content\": f\"context: {context}\\n\\n---\\n\\n Question: {question}, 한국어로 대답해줘.\"}\n",
    "                {\"role\": \"system\", \"content\": \"You are a helpful assistant who offer job information. Answer the question in Korean using Answer Form replacing `` with words based on the context below, and if the question can't be answered based on the context, say \\\"I don't know\\\"\\n\\n\"},\n",
    "                {\"role\": \"user\", \"content\": f\"Context: {context}\\n\\n---\\n\\n Quengstion: {question}.\"},\n",
    "                {\"role\": \"assistant\", \"content\": \"\"\"Answer Form: For example, `company A`, `company B` and `company C` are looking for people who can use `programing language`. Are there specific types of companies you're interested in?, `A` is a company established in `year` and at 'location`. `A` has `goals` and is a `adjective` company. `A` provides additional welfare benefits like `a, b and c`, For `job category`, languages like `language A`, `language B`, and `language C` are fundamental,commonly used,may be relevant., In general, companies expect you to do `a, b, and c` for `job A`., `A, B and C` are open to new hires., To work as a `job category`, you should know `a`, `b, ans `c` programming languages., The programming languages that the company is looking for are `a`, `b`, and `c`.\"\"\"}\n",
    "            ],\n",
    "            temperature=0,\n",
    "        )\n",
    "        return response.choices[0].message.content\n",
    "    except Exception as e:\n",
    "        print(\"Error occurred:\", e)\n",
    "        return \"\""
   ]
  },
  {
   "cell_type": "code",
   "execution_count": 13,
   "metadata": {},
   "outputs": [
    {
     "data": {
      "text/plain": [
       "'Python을 사용할 수 있다면, `에스엔에이`, `피데스어드바이저리`, `로앤굿`과 같은 회사에 지원할 수 있습니다. 특정 유형의 회사에 관심이 있으신가요? `에스엔에이`는 `년도`에 설립된 회사로 `위치`에 위치하고 있습니다. `에스엔에이`는 `목표`를 가지고 있으며, `형용사` 회사입니다. `에스엔에이`는 `a, b, c`와 같은 추가 복지 혜택을 제공합니다. `피데스어드바이저리`는 `a, b, c`와 같은 언어를 다루는 것이 중요한 `직종`에 대한 인재를 찾고 있습니다. 일반적으로 회사들은 `직종`에 대해 `a, b, c`를 수행할 수 있는 능력을 기대합니다. `로앤굿`은 새로운 인재를 모집하고 있습니다. `직종`으로 일하기 위해서는 `a, b, c`와 같은 프로그래밍 언어에 대한 지식이 필요합니다. 회사에서 요구하는 프로그래밍 언어는 `a, b, c`입니다.'"
      ]
     },
     "execution_count": 13,
     "metadata": {},
     "output_type": "execute_result"
    }
   ],
   "source": [
    "# text-embedding-3-small\n",
    "answer_question(df, question=\"If I can use Python, which companies can I apply to?\")"
   ]
  },
  {
   "cell_type": "code",
   "execution_count": 15,
   "metadata": {},
   "outputs": [
    {
     "data": {
      "text/plain": [
       "'Python을 사용할 수 있다면, `어센트코리아`와 `슈어소프트테크`와 같은 회사에 지원할 수 있습니다. `어센트코리아`는 검색 데이터를 분석하여 마케팅에 활용하는 인텐트 마케팅 전문 기업이며, `슈어소프트테크`는 국방 소프트웨어 검증을 위한 테스트 자동화 도구를 개발하는 소프트웨어 품질 전문 기업입니다. 이 외에도 Python을 사용하는 다른 회사들도 있을 수 있습니다. 특정 분야의 회사에 관심이 있으신가요?'"
      ]
     },
     "execution_count": 15,
     "metadata": {},
     "output_type": "execute_result"
    }
   ],
   "source": [
    "# text-embedding-ada-002\n",
    "answer_question(df, question=\"If I can use Python, which companies can I apply to?\")"
   ]
  }
 ],
 "metadata": {
  "kernelspec": {
   "display_name": "Python 3",
   "language": "python",
   "name": "python3"
  },
  "language_info": {
   "codemirror_mode": {
    "name": "ipython",
    "version": 3
   },
   "file_extension": ".py",
   "mimetype": "text/x-python",
   "name": "python",
   "nbconvert_exporter": "python",
   "pygments_lexer": "ipython3",
   "version": "3.12.1"
  }
 },
 "nbformat": 4,
 "nbformat_minor": 2
}
