{
 "cells": [
  {
   "cell_type": "markdown",
   "metadata": {},
   "source": [
    "# [OpenAI Cookbook 예제](https://github.com/openai/openai-cookbook/blob/main/examples/How_to_finetune_chat_models.ipynb) 참조"
   ]
  },
  {
   "cell_type": "code",
   "execution_count": 71,
   "metadata": {},
   "outputs": [],
   "source": [
    "import pandas as pd\n",
    "import tiktoken\n",
    "import openai\n",
    "from openai import OpenAI\n",
    "from scipy.spatial.distance import cosine\n",
    "import os\n",
    "client = OpenAI()\n",
    "from pprint import pprint\n",
    "import json\n",
    "openai.api_key = os.environ[\"OPENAI_API_KEY\"]"
   ]
  },
  {
   "cell_type": "code",
   "execution_count": 3,
   "metadata": {},
   "outputs": [],
   "source": [
    "# from dotenv import load_dotenv\n",
    "# load_dotenv()\n",
    "# openai_api_key = os.getenv(\"OPENAI_API_KEY\")\n",
    "# if openai_api_key is True:\n",
    "#     openai_api_key = input(\"OpenAI API Key 입력: \")\n",
    "#     os.environ[\"OPENAI_API_KEY\"] = openai_api_key\n",
    "# openai.api_key = os.environ[\"OPENAI_API_KEY\"]"
   ]
  },
  {
   "cell_type": "markdown",
   "metadata": {},
   "source": [
    "### 레시피 데이터 불러오기"
   ]
  },
  {
   "cell_type": "code",
   "execution_count": 52,
   "metadata": {},
   "outputs": [
    {
     "data": {
      "text/html": [
       "<div>\n",
       "<style scoped>\n",
       "    .dataframe tbody tr th:only-of-type {\n",
       "        vertical-align: middle;\n",
       "    }\n",
       "\n",
       "    .dataframe tbody tr th {\n",
       "        vertical-align: top;\n",
       "    }\n",
       "\n",
       "    .dataframe thead th {\n",
       "        text-align: right;\n",
       "    }\n",
       "</style>\n",
       "<table border=\"1\" class=\"dataframe\">\n",
       "  <thead>\n",
       "    <tr style=\"text-align: right;\">\n",
       "      <th></th>\n",
       "      <th>title</th>\n",
       "      <th>content</th>\n",
       "      <th>expression</th>\n",
       "    </tr>\n",
       "  </thead>\n",
       "  <tbody>\n",
       "    <tr>\n",
       "      <th>0</th>\n",
       "      <td>개발 팀장</td>\n",
       "      <td>21310## 한국해양기상기술## 한국 해양 기상 기술은 해양,기상환경의 분석, 예...</td>\n",
       "      <td>Spring Boot, Thymeleaf, Java, Spring, Docker, ...</td>\n",
       "    </tr>\n",
       "    <tr>\n",
       "      <th>1</th>\n",
       "      <td>[Moloco] Senior Data Scientist</td>\n",
       "      <td>21110## 몰로코## 몰로코는 모바일 광고 기반의 머신러닝 솔루션 기업으로서 지...</td>\n",
       "      <td>R, MachineLearning, Python, SQL, Pandas, 빅데이터 ...</td>\n",
       "    </tr>\n",
       "    <tr>\n",
       "      <th>2</th>\n",
       "      <td>AI 엔지니어</td>\n",
       "      <td>20853## 피매치## \"고객이 자기주도적으로 웰니스를 실현하는 세상을 꿈꾸는 피...</td>\n",
       "      <td>Linux, TensorFlow, Python, Docker, PyTorch, 인공...</td>\n",
       "    </tr>\n",
       "    <tr>\n",
       "      <th>3</th>\n",
       "      <td>JAVA 백엔드 개발자(차장급)</td>\n",
       "      <td>21851## 아파트아이## 아파트아이란?  아파트아이는 아파트 단지를 기반으로 고...</td>\n",
       "      <td>JavaScript, Spring Framework, RDB, Kafka, Java...</td>\n",
       "    </tr>\n",
       "    <tr>\n",
       "      <th>4</th>\n",
       "      <td>[5년 이상 리더급] 풀스택 소프트웨어 엔지니어</td>\n",
       "      <td>22041## 다이얼로그디자인에이전시## dda Inc.는 2016년 창업한 임직원...</td>\n",
       "      <td>GCP, Git, Django, React, AWS, Flask, Python, A...</td>\n",
       "    </tr>\n",
       "  </tbody>\n",
       "</table>\n",
       "</div>"
      ],
      "text/plain": [
       "                            title  \\\n",
       "0                           개발 팀장   \n",
       "1  [Moloco] Senior Data Scientist   \n",
       "2                         AI 엔지니어   \n",
       "3               JAVA 백엔드 개발자(차장급)   \n",
       "4      [5년 이상 리더급] 풀스택 소프트웨어 엔지니어   \n",
       "\n",
       "                                             content  \\\n",
       "0  21310## 한국해양기상기술## 한국 해양 기상 기술은 해양,기상환경의 분석, 예...   \n",
       "1  21110## 몰로코## 몰로코는 모바일 광고 기반의 머신러닝 솔루션 기업으로서 지...   \n",
       "2  20853## 피매치## \"고객이 자기주도적으로 웰니스를 실현하는 세상을 꿈꾸는 피...   \n",
       "3  21851## 아파트아이## 아파트아이란?  아파트아이는 아파트 단지를 기반으로 고...   \n",
       "4  22041## 다이얼로그디자인에이전시## dda Inc.는 2016년 창업한 임직원...   \n",
       "\n",
       "                                          expression  \n",
       "0  Spring Boot, Thymeleaf, Java, Spring, Docker, ...  \n",
       "1  R, MachineLearning, Python, SQL, Pandas, 빅데이터 ...  \n",
       "2  Linux, TensorFlow, Python, Docker, PyTorch, 인공...  \n",
       "3  JavaScript, Spring Framework, RDB, Kafka, Java...  \n",
       "4  GCP, Git, Django, React, AWS, Flask, Python, A...  "
      ]
     },
     "execution_count": 52,
     "metadata": {},
     "output_type": "execute_result"
    }
   ],
   "source": [
    "contents_df = pd.read_csv(\"contents_df.csv\")\n",
    "contents_df.head()"
   ]
  },
  {
   "cell_type": "markdown",
   "metadata": {},
   "source": [
    "### Few Shot Learning용 예제 만들기"
   ]
  },
  {
   "cell_type": "code",
   "execution_count": 53,
   "metadata": {},
   "outputs": [
    {
     "name": "stdout",
     "output_type": "stream",
     "text": [
      "{'messages': [{'content': 'You are a helpful recipe assistant. You are to '\n",
      "                          'extract the necessary IT recruitment related '\n",
      "                          'information from the given information.',\n",
      "               'role': 'system'},\n",
      "              {'content': 'Title: 개발 팀장\\n'\n",
      "                          '\\\\information: 21310## 한국해양기상기술## 한국 해양 기상 기술은 '\n",
      "                          '해양,기상환경의 분석, 예측에 대한 과학적 자료 제공 관련 기술을 바탕으로 응용소프트웨어, '\n",
      "                          'DB 개발 구축과 하드웨어 개발을 통한 통합솔루션을 구축하는 업체 입니다. 기상청, 항공 '\n",
      "                          '기상청, 해양 경찰청 등 정부 기관 관련 다양한 GIS 프로젝트 및 R&D를 주로 하고 '\n",
      "                          '있습니다. 고객사 파견이나 상주 근무를 하지 않고, 사내 개발을 하고 있습니다. 프로젝트 '\n",
      "                          '개발 업무를 리딩할 팀장급 경력자 분을 찾고 있습니다. 많은 지원 부탁 드립니다.##  '\n",
      "                          '개발자들에 대한 technical leading 및 지원  기상, 해양 분야 프로젝트 및 '\n",
      "                          'R&D 개발  개발 팀 문화 및 프로세스 Development##  7년 이상 백엔드 개발 '\n",
      "                          '및 서비스 운영 경험이 있는 분 혹은 그에 준하신 분  Java 기술 '\n",
      "                          '생태계(Java/Spring/JPA)에 대한 이해도와 엔지니어링 '\n",
      "                          '역량(OOP/TDD/Refactoring)에 관심이 있으신 분  비즈니스 마인드 및 '\n",
      "                          '커뮤니케이션 역량을 소유한 분  소규모 팀을 리드 하면서 팀원을 코칭하고 양성한 경험이 있는 '\n",
      "                          '분##  개발팀장 혹은 개발 리더 경험이 있으신 분  레거시 시스템 개선 경험 및 대용량 '\n",
      "                          '시스템 운영 경험이 있는 분  2D/3D 공간 정보에 대한 이해가 있으신 분  '\n",
      "                          'Geoserver, QGIS, Openlayers, Cesium, GDAL 개발 경험이 '\n",
      "                          '있으신 분  DDD, Agile, Docker, Kubernetes, MSA, Kafka, '\n",
      "                          'Elastic Search, Kubernetes 등의 경험이 있으신 분##  업계 상위 '\n",
      "                          '수준의 연봉(개발 능력, 직전 직장 연봉 등에 기반 상호 협의)  학습 지원(온라인 강의, '\n",
      "                          '서적 구매)  점심 식대 제공, 간식 제공  주 5일, 4대 보험, 인센티브제, 장기 근속자 '\n",
      "                          '포상 등##  최종 합격자는 3개월간의 수습기간이 적용되며, 해당 기간 중 급여는 100% '\n",
      "                          '지급됩니다.  입사지원 서류에 허위사실이 발견될 경우, 채용확정 이후라도 채용이 취소될 수 '\n",
      "                          \"있습니다.## nan## 5506## ['Spring Boot', 'Thymeleaf', \"\n",
      "                          \"'Java', 'Spring', 'Docker', 'PostgreSQL', \"\n",
      "                          \"'Mybatis', 'GitHub']## ['FULL_TIME']## ['경력']## 서울 \"\n",
      "                          '구로구 경인로53길 90 1503,1504호## True## 1## 서버/백엔드 개발자## '\n",
      "                          '[False, 10, 30, 4, False] ',\n",
      "               'role': 'user'},\n",
      "              {'content': 'Spring Boot, Thymeleaf, Java, Spring, Docker, '\n",
      "                          'PostgreSQL, Mybatis, GitHub, 서버/백엔드 개발자,  개발자들에 대한 '\n",
      "                          'technical leading 및 지원  기상, 해양 분야 프로젝트 및 R&D 개발  개발 '\n",
      "                          '팀 문화 및 프로세스 Development',\n",
      "               'role': 'assistant'}]}\n"
     ]
    },
    {
     "name": "stderr",
     "output_type": "stream",
     "text": [
      "<>:6: SyntaxWarning: invalid escape sequence '\\i'\n",
      "<>:6: SyntaxWarning: invalid escape sequence '\\i'\n",
      "C:\\Users\\r2com\\AppData\\Local\\Temp\\ipykernel_14820\\3828387410.py:6: SyntaxWarning: invalid escape sequence '\\i'\n",
      "  return f\"\"\"Title: {row['title']}\\n\\information: {row['content']} \"\"\"\n"
     ]
    }
   ],
   "source": [
    "training_data = []\n",
    "\n",
    "system_message = \"You are a helpful recipe assistant. You are to answer the necessary IT recruitment related information from the given information.\"\n",
    "\n",
    "def create_user_message(row):\n",
    "    return f\"\"\"Title: {row['title']}\\n\\information: {row['content']} \"\"\"\n",
    "\n",
    "def prepare_example_conversation(row):\n",
    "    messages = []\n",
    "    messages.append({\"role\": \"system\", \"content\": system_message})\n",
    "\n",
    "    user_message = create_user_message(row)\n",
    "    messages.append({\"role\": \"user\", \"content\": user_message})\n",
    "\n",
    "    # assistant의 content가 적절하지 않음,,\n",
    "    messages.append({\"role\": \"assistant\", \"content\": row[\"expression\"]})\n",
    "\n",
    "    return {\"messages\": messages}\n",
    "\n",
    "pprint(prepare_example_conversation(contents_df.iloc[0]))"
   ]
  },
  {
   "cell_type": "markdown",
   "metadata": {},
   "source": [
    "### 성능 측정 목적으로 Training Data와 Test Data 를 나누기"
   ]
  },
  {
   "cell_type": "code",
   "execution_count": 60,
   "metadata": {},
   "outputs": [
    {
     "name": "stdout",
     "output_type": "stream",
     "text": [
      "{'messages': [{'role': 'system', 'content': 'You are a helpful recipe assistant. You are to extract the necessary IT recruitment related information from the given information.'}, {'role': 'user', 'content': \"Title: 개발 팀장\\n\\\\information: 21310## 한국해양기상기술## 한국 해양 기상 기술은 해양,기상환경의 분석, 예측에 대한 과학적 자료 제공 관련 기술을 바탕으로 응용소프트웨어, DB 개발 구축과 하드웨어 개발을 통한 통합솔루션을 구축하는 업체 입니다. 기상청, 항공 기상청, 해양 경찰청 등 정부 기관 관련 다양한 GIS 프로젝트 및 R&D를 주로 하고 있습니다. 고객사 파견이나 상주 근무를 하지 않고, 사내 개발을 하고 있습니다. 프로젝트 개발 업무를 리딩할 팀장급 경력자 분을 찾고 있습니다. 많은 지원 부탁 드립니다.##  개발자들에 대한 technical leading 및 지원  기상, 해양 분야 프로젝트 및 R&D 개발  개발 팀 문화 및 프로세스 Development##  7년 이상 백엔드 개발 및 서비스 운영 경험이 있는 분 혹은 그에 준하신 분  Java 기술 생태계(Java/Spring/JPA)에 대한 이해도와 엔지니어링 역량(OOP/TDD/Refactoring)에 관심이 있으신 분  비즈니스 마인드 및 커뮤니케이션 역량을 소유한 분  소규모 팀을 리드 하면서 팀원을 코칭하고 양성한 경험이 있는 분##  개발팀장 혹은 개발 리더 경험이 있으신 분  레거시 시스템 개선 경험 및 대용량 시스템 운영 경험이 있는 분  2D/3D 공간 정보에 대한 이해가 있으신 분  Geoserver, QGIS, Openlayers, Cesium, GDAL 개발 경험이 있으신 분  DDD, Agile, Docker, Kubernetes, MSA, Kafka, Elastic Search, Kubernetes 등의 경험이 있으신 분##  업계 상위 수준의 연봉(개발 능력, 직전 직장 연봉 등에 기반 상호 협의)  학습 지원(온라인 강의, 서적 구매)  점심 식대 제공, 간식 제공  주 5일, 4대 보험, 인센티브제, 장기 근속자 포상 등##  최종 합격자는 3개월간의 수습기간이 적용되며, 해당 기간 중 급여는 100% 지급됩니다.  입사지원 서류에 허위사실이 발견될 경우, 채용확정 이후라도 채용이 취소될 수 있습니다.## nan## 5506## ['Spring Boot', 'Thymeleaf', 'Java', 'Spring', 'Docker', 'PostgreSQL', 'Mybatis', 'GitHub']## ['FULL_TIME']## ['경력']## 서울 구로구 경인로53길 90 1503,1504호## True## 1## 서버/백엔드 개발자## [False, 10, 30, 4, False] \"}, {'role': 'assistant', 'content': 'Spring Boot, Thymeleaf, Java, Spring, Docker, PostgreSQL, Mybatis, GitHub, 서버/백엔드 개발자,  개발자들에 대한 technical leading 및 지원  기상, 해양 분야 프로젝트 및 R&D 개발  개발 팀 문화 및 프로세스 Development'}]}\n",
      "{'messages': [{'role': 'system', 'content': 'You are a helpful recipe assistant. You are to extract the necessary IT recruitment related information from the given information.'}, {'role': 'user', 'content': \"Title: [Moloco] Senior Data Scientist\\n\\\\information: 21110## 몰로코## 몰로코는 모바일 광고 기반의 머신러닝 솔루션 기업으로서 지난 2013년에 YouTube 알고리즘을 개발한 안익진 대표께서 실리콘밸리에 창업한 이후 매년 100% 이상의 매출 성장을 이룩하는 등 모바일 광고기술 분야에서 대표 기업으로 자리 잡았습니다. ## 한국인이 실리콘밸리에서 창업한 ML/AI기업 중에서 첫 유니콘으로 선정되었으며, 최근 Google/Meta와 함께 세계 5대 광고 네트워크로 선정되는 등 기술력을 인정받습니다. 또한 1억 5000만달러 투자 유치, 한국의 마케터상, 구글 클라우드 고객어워즈 수상, 코리아 대표 AI 스타트업 선정, 과기정통부 장관상 등 국내외적으로 공식적인 인정까지 받고 있습니다. ##  몰로코, 세계 Top5 광고네트워크 선정 :   몰로코, 1억 5000만달러 규모 시리즈C 투자유치 퀘거 :\\xa0  몰로코 대표, 2021 대한민국브랜드대상 한국의 마케터상 수상 :\\xa0  몰로코, 테크놀로지 패스트 500 선정 :\\xa0  몰로코, 구글 클라우드 고객 어워즈 수상 :\\xa0  몰로코, 과기정통부 장관상 수상 :\\xa0  몰로코, 코리아 AI 스타트업 100 선정 :\\xa0 ## 본사인 실리콘밸리를 비롯하여 샌프란시스코, 시애틀, 뉴욕, 런던, 베를린, 싱가포르, 도쿄, 북경, 인도, 서울에 오피스를 두고 있으며, Global IT업계 출신의 Top급 인력 500여명이 성공 로켓에 함께 하고 있습니다. ## 앞으로 MOLOCO는 모바일광고기술 분야를 비롯한, ECommerce, 미디어 등 Data를 통한 수익화가 필요한 산업 전분야에 독보적인 당사의 머신러닝 기술을 확대하기 위해 노력하고 있습니다.##  The Impact Youll Be Contributing to Moloco  Product Data Science (PDS) is the global team of data scientists whose mission is to provide datadriven insights to improve decisionmaking and design, resulting in bestinclass Demand Side Platform (DSP) products and services. As a senior data scientist in PDS, you will derive performance improvement and cost efficiency in our product through a deep understanding of the ML and infra system and provide a datadriven insight and scientific solution. ##  The Opportunity   Data Analysis and Research: analyzing a large dataset with queries and scripts, extracting valuable signals from noise, and producing actionable insights into how we could complete and improve Molocos complex ML and bidding system.  Simulation and Modeling: validating and quantifying the efficiency and performance gain from hypotheses through rigorous simulation and modeling.  Experimentation and Causal Inference: developing a robust experiment design and metric framework and providing reliable and unbiased insights for product and business decisionmaking.##  Bachelors degree in a quantitative discipline (e.g., Statistics, Operations Research, Bioinformatics, Economics, Computational Biology, Computer Science, Mathematics, Physics, Electrical Engineering, Industrial Engineering).  3 years of work experience in data sciencerelated fields or an advanced degree such as a Masters or Ph.D. in a quantitative discipline with 2 years of experience  Distinctive problemsolving skills, good at articulating product questions, pulling data from large datasets, and using statistics to arrive at a recommendation.  Excellent verbal and written communication skills, with the ability to present information and analyze results effectively.  Ability to build positive relationships within DSA and with our stakeholders and work effectively with crossfunctional partners in a global company.  Statistics: must have strong knowledge and experience in experimental design, hypothesis testing, and various statistical analysis techniques such as regression or linear models.  Machine Learning: must have a deep understanding of ML algorithms (i.e., deep learning, random forest, gradient boosted trees, kmeans clustering, etc.) and their development, validation, and evaluation.  Programming: experience with Python, R, or other scripting languages, and database language (e.g., SQL) or data manipulation (e.g., Pandas, Dplyr) are required.##  Advanced degree such as Masters or PhD in a quantitative discipline.  Ability to manage multiple projects at the same time while paying attention to detail and translating analysis results into business recommendations.  Proven ability to own projects endtoend, even when you have to get creative: you do more than complete delegated tasks.  Demonstrated leadership and selfdirection. Willingness to both teach others and learn new techniques.##  입사자 주식 무상 지급(RSU)  직원 중심, 데이터 중심의 실리콘밸리식 조직 문화  무제한 휴가, 자율 출퇴근, 자율 재택근무 등 직원의 워라밸을 배려한 제도 운영  자기계발비, 체력단련비, 교통비 별도 지원  무료 스낵바/커피머신/음료코너 제공 및 와인셀러 구비  격주 TGIF 이벤트, 다양한 사내 클럽 활동 등 ## nan## nan## 2550## ['R', 'MachineLearning', 'Python', 'SQL', 'Pandas']## ['FULL_TIME']## ['경력']## 서울시 강남구 테헤란로 231 센터필드 WEST 8층## True## 19## 빅데이터 엔지니어## [False, 3, 20, 4, False] \"}, {'role': 'assistant', 'content': 'R, MachineLearning, Python, SQL, Pandas, 빅데이터 엔지니어,  The Impact Youll Be Contributing to Moloco  Product Data Science (PDS) is the global team of data scientists whose mission is to provide datadriven insights to improve decisionmaking and design, resulting in bestinclass Demand Side Platform (DSP) products and services. As a senior data scientist in PDS, you will derive performance improvement and cost efficiency in our product through a deep understanding of the ML and infra system and provide a datadriven insight and scientific solution. ##  The Opportunity   Data Analysis and Research: analyzing a large dataset with queries and scripts, extracting valuable signals from noise, and producing actionable insights into how we could complete and improve Molocos complex ML and bidding system.  Simulation and Modeling: validating and quantifying the efficiency and performance gain from hypotheses through rigorous simulation and modeling.  Experimentation and Causal Inference: developing a robust experiment design and metric framework and providing reliable and unbiased insights for product and business decisionmaking.'}]}\n",
      "{'messages': [{'role': 'system', 'content': 'You are a helpful recipe assistant. You are to extract the necessary IT recruitment related information from the given information.'}, {'role': 'user', 'content': 'Title: AI 엔지니어\\n\\\\information: 20853## 피매치## \"고객이 자기주도적으로 웰니스를 실현하는 세상을 꿈꾸는 피매치\" ## 피매치는 웰니스에 도달하는 여러 길 중 데이터와 다양한 기술을 융합해 고객이 자기주도적으로 결정하고 행동에 옮길 수 있도록 조력하는 방법을 개발하는 데 관심을 갖고 있어요. 최근에는 인공지능 기반 개인맞춤 건강기능식품 추천 서비스인 건전지(건강기능식품 정보를 전부 모아 지키자 내 건강) 앱을 출시했어요. 건전지 앱을 고도화하기 위해, ChatGPT 기능과 개인맞춤형 건강기능식품 추천 알고리즘을 개선하고, B2B 건강관리 서비스와의 연계를 통해 점차 개인화된 종합 건강 관리 플랫폼으로 발전시킬 계획이에요. 피매치와 같은 비전을 공유하고 함께 성장하고 싶은 분들을 기다려요.##  사전에 학습된 ChatGPT 모델을 의료 도메인 데이터로 미세 조정하여 챗봇 고도화  사용자와의 자연스러운 대화를 위한 챗봇 시스템을 설계 및 구현  개인맞춤형 건강기능식품 추천을 위한 데이터 전/후처리 아키텍쳐 및 알고리듬 고도화##  경력 : 동종업(AI 서비스 개발/운영) 2년 이상 또는 그에 준하는 역량을 가지신 분  대용량 데이터 활용이 가능하신 분  Python, Tensorflow, Pytorch 등 딥러닝 프레임워크 개발에 능숙하신 분##  헬스케어 분야에서의 경험이 있으신 분  자연어 생성 모델(LLM) 관련 경험이 있으신 분   Linux, Docker 기반 개발 경험하신 분  최신 영문 논문을 분석하고 재현하는 데 능숙한 분##  집중근무시간 10:00  17:00 외 자율 출퇴근제  자유로운 연차 사용  업무관련 자기개발비 지원(도서, 강의, 세미나 등)  최신 업무용 기기 지원  맛있고 건강한 간식 무제한 제공  점심 식사비 지원  야근 식대, 교통비 지원  성과 중심의 인센티브제  명절, 경조사비 및 기념일 선물  직급 없는 수평적 문화 지향## 채용절차  제출 서류: 자유양식 이력서 (필수), 경력기술서 또는 포트폴리오 (필수)  pdf 형식 권장  서류 전형  1차 직무 인터뷰  2차 컬처핏 인터뷰  처우 협의  최종 합격 \\u3000 서류 합격자분들에 한해 각 전형 결과를 개별로 안내해드려요.  \\u3000 채용 절차는 일정과 상황에 따라 사전 안내 후 변경될 수 있어요. ## 기타  해당 공고는 상시 채용으로, 채용 완료 시 조기 마감될 수 있어요.  입사 시 3개월간 수습 기간을 적용해요. (연봉 월할 그대로 지급)  입사 지원 서류에 허위 사실 기재 시 채용이 취소될 수 있어요.## nan## 5615## [\\'Linux\\', \\'TensorFlow\\', \\'Python\\', \\'Docker\\', \\'PyTorch\\']## [\\'FULL_TIME\\']## [\\'경력\\']## 서울 마포구 마포대로 122 13층## True## 8## 인공지능/머신러닝## [False, 2, 5, 4, False] '}, {'role': 'assistant', 'content': 'Linux, TensorFlow, Python, Docker, PyTorch, 인공지능/머신러닝,  사전에 학습된 ChatGPT 모델을 의료 도메인 데이터로 미세 조정하여 챗봇 고도화  사용자와의 자연스러운 대화를 위한 챗봇 시스템을 설계 및 구현  개인맞춤형 건강기능식품 추천을 위한 데이터 전/후처리 아키텍쳐 및 알고리듬 고도화'}]}\n",
      "{'messages': [{'role': 'system', 'content': 'You are a helpful recipe assistant. You are to extract the necessary IT recruitment related information from the given information.'}, {'role': 'user', 'content': \"Title: JAVA 백엔드 개발자(차장급)\\n\\\\information: 21851## 아파트아이## 아파트아이란?  아파트아이는 아파트 단지를 기반으로 고객의 더 나은 생활에 기여하는 생활 밀착형 1위 앱 서비스  아파트아이는 공동주택 통합운영관리 솔루션을 기반으로 현재 약 150만명 정도의 가입자를 보유  현재까지 주요 서비스는 아래와 같으며, 앞으로 새로운 서비스 기획을 통해서 아파트 1,200만세대 입주민을 위한 생활 밀착형 플랫폼을 목표로 하고 있습니다. ## 주요 서비스  전국 공동주택 ERP 1위 (업무 간소화와 입주민간 원활한 소통)  ERP 부가 서비스 무료 제공 (언제 어디서나 원하는 시간에 확인)  아파트 생활지원 및 할인혜택 (관리비 할인 제공, 관리비로 신용점수 올리기 등)## 우리 개발팀은 이렇게 구성되어 있어요 ##  R&D 센터  개발 1팀  개발 2팀  1팀 (총 9명으로 구성)   1명 추가 채용중 (차장급)    팀장 1명  팀원 8명 ## 23년 하반기 오픈 예정인 서비스를 위해 귀하의 지원을 기다리고 있습니다.  ## 진행 중 업무  꿀단지, 관리비 조회 / 납부, 민원, 신용점수, 택배예약, 아파트소식, 전자투표, 음성방송, 인앱서비스 등 개발과 운영합니다. ## 2023년 하반기 추가 예정 및 진행중인 업무  꿀단지, 모바일 입주자 카드, 단지톡, 월세 자동이체, 주차 관제, 출입문 등 개발 및 운영합니다.## 필요 역량  JAVA, Spring, Javascript, JQuery 중급 이상  RDBMS Query 작성 중급 이상  이해관계자와 건설적인 의사소통이 가능한 분  업무에 필요한 새로운 기술을 익히려는 의지를 갖고 있는 분 ## 필요 경력  만 10년  만 14년 (차장급)##  PG / VAN 서비스 개발 및 운영 경험 있으신 분  클라우드 기반 서비스 개발 및 운영 경혐 있으신 분  .Net 기반 서비스 개발 경험 있으신 분  OpenAPI 서비스 개발 및 운영 경험 있으신 분## 건강한 사내문화  탄력 근무제, 자유로운 연차, 회식 강요 안해요  사우회/사내 동호회 운영 ## 개인의 성장  자기개발비(도서구입, 피트니스, 교육 등) 연 60만원 지원  본인 혹은 자녀 학자금 지원  점심식비 지원(페이코 포인트 연간 약 200만원)  직무관련 교육, 도서, 세미나 참석 등 무제한 지원 ## 평화로운 가정  질병 치료, 수술 등 의료비 지원 (연 최대 300만원)  본인 및 가족 중 1인 건강검진비 지급 (100만원 상당) ## 든든한 포상  매년 우수사원 표창  장기근속사원 포상금 지급 ## 특별한 날  생일축하금 지급  창립기념일 선물 제공  명절 선물 지급  대명 및 한화 콘도 이용요금 지원  결혼과 출산, 가족 경조사 선물과 비용 지급##  채용절자 : 1차 서류전형  2차 실무(임원) 인터뷰   최종합격  상세 전형 일정은 진행 상황에 따라 변동 될 수 있습니다. ## 아파트아이는 이지스엔터프라이즈의 자회사로 안정적인 스타트업으로 시작하여 통합플랫폼 서비스 기업으로 도약하고자 합니다.## nan## 4178## ['JavaScript', 'Spring Framework', 'RDB', 'Kafka', 'Java', 'MSSQL', 'Redis', 'Oracle', 'jQuery']## ['FULL_TIME']## ['경력']## 서울특별시 금천구 가산디지털1로 186 제이플라츠 1203호## True## 1## 서버/백엔드 개발자## [False, 10, 14, 3, False] \"}, {'role': 'assistant', 'content': 'JavaScript, Spring Framework, RDB, Kafka, Java, MSSQL, Redis, Oracle, jQuery, 서버/백엔드 개발자, 우리 개발팀은 이렇게 구성되어 있어요 ##  R&D 센터  개발 1팀  개발 2팀  1팀 (총 9명으로 구성)   1명 추가 채용중 (차장급)    팀장 1명  팀원 8명 ## 23년 하반기 오픈 예정인 서비스를 위해 귀하의 지원을 기다리고 있습니다.  ## 진행 중 업무  꿀단지, 관리비 조회 / 납부, 민원, 신용점수, 택배예약, 아파트소식, 전자투표, 음성방송, 인앱서비스 등 개발과 운영합니다. ## 2023년 하반기 추가 예정 및 진행중인 업무  꿀단지, 모바일 입주자 카드, 단지톡, 월세 자동이체, 주차 관제, 출입문 등 개발 및 운영합니다.'}]}\n",
      "{'messages': [{'role': 'system', 'content': 'You are a helpful recipe assistant. You are to extract the necessary IT recruitment related information from the given information.'}, {'role': 'user', 'content': \"Title: [5년 이상 리더급] 풀스택 소프트웨어 엔지니어\\n\\\\information: 22041## 다이얼로그디자인에이전시## dda Inc.는 2016년 창업한 임직원 20명, 연매출 40억 규모의 탄탄하고 내실있는 벤쳐 기업입니다. ## dda Inc. 사람과 AI의 대화가  매력적이고 의미와 가치 있는 경험이 되도록 인문학적 지식과 전문 기술 융합을 토대로 아래의 서비스를 연구 개발하고 제공하는 데이터 중심 AI 기업입니다. ##  AI Voice 에이전트의 페르소나 기획과 설계  AI 에이전트의 Voice UX/UI/Dialogue Flow 기획과 설계  AI의 페르소나 학습에 필요한 데이터 기획과 구축 ## dda Inc.는  사람과 AI의 상호작용이 일상화되고, 더더욱 중요해 지는 시대에 페르소나/VUX/VUI 설계와 데이터 구축 분야의 축적된 노하우와 기술을 발판으로 인간 중심적, 창의적, 혁신적인 AI 솔루션 개발을 진행하고 있습니다. ## dda Inc. 사람과 AI의 소통, 연결을 위한  혁신적이고 창의적인 기술과 서비스를 꿈꾼다면 열정과 역량을 마음껏 발휘할 수 있는 기업입니다. ##  풀스택 소프트웨어 엔지니어는 dda의 AI Solution Lab에 합류해 팀 리더의 역할을 합니다.  AI Solution Lab은 AI 기술의 발전과, 기술을 이용한 더 나은 세상을 만드는 데 앞장섭니다.  AI Solution Lab은 산업과 사회의 다양한 문제를 해결하는 AI 솔루션을 연구하고 개발합니다.  AI Solution Lab은 AI를 활용한 창의적이고 혁신적인 솔루션을 위해 개발, 디자인, 기획 분야의 전문가들이 같이 협업하는 팀입니다.##  AI, LLM 기반의 응용 서비스, 솔루션 신규 개발 프로젝트의 개발 파트를 리딩합니다.  AI Solution Lab의 개발 업무를 리딩하고 실무 개발에 앞장서 참여합니다.  안정적인 서비스 제공을 위한 시스템 아키텍쳐를 탄탄하게 설계하고 개발합니다.  신규 개발 프로젝트의 크로스 플랫폼 웹/앱 풀스택 개발과 시스템 설계, 유지 보수에 참여합니다.##  풀스택 소프트웨어 엔지니어 실무 개발 경력이 5년 이상인 분  데이터 구조 설계부터 화면 구현까지 서비스 개발 경험이 있으신 분  AI 서비스(또는 이에 준하는 모바일/웹/앱/플랫폼 서비스) 출시 경험이 있고, 기획과 설계부터 서비스 출시까지 모든 과정에 참여해 CTO 또는 그에 준하는 역할을 수행한 경력이 있으신 분  시스템 아키텍처 설계, 서버 및 인프라에 대한 지식과 경험, 실력을 가지신 분  Python/Django 프레임워크를 이용한 서버/백엔드 개발에 최상급의 지식과 실력을 가지신 분  Flutter를 이용한 웹/모바일 클라이언트 개발에 상급 수준 지식과 실력을 가지신 분  AWS EC2, GCP 등 클라우드 기반의 서버 구축 경험이 있으신 분  SQL/MongoDB 등과 같이 RDBS/NoSQL 관계없이 다양한 DB를 익숙하게 다룰 수 있으신 분  비개발자를 포함해 협업하는 사람과 논리적이고 이성적인 커뮤니케이션이 가능하신 분  내가 제안한 설계와 내가 개발한 코드에 대한 비판에도 열린 커뮤니케이션이 가능한 분  서비스와 사용자 중심의 관점과 유연한 커뮤니케이션 역량을 보유하신 분  리더로서 책임감과 포용력이 있으신 분##  컴퓨터공학 또는 관련 학문을 전공하신 분  주도적으로 문제를 발견하고 개선해오신 분  사용자 중심으로 개발하는 마인드를 가지신 분  LLM을 활용한 제품/서비스 출시 경험이 있으신 분  신규 개발팀을 신설해보았거나, 개발팀을 리딩해보신 분  자연어처리, 딥러닝, MLOps 등에 대한 이해가 있으신 분  AI/ML/LLM 모델을 활용한 서비스 구축 경험이 있으신 분  AI 시장에 대한 이해를 바탕으로 제품화를 위한 아이디어가 넘치시는 분## 근무 및 급여 조건  채용 형태 : 정규직 (수습2개월, 수습 기간에도 급여 100% 지급)  급여 및 연봉 : 7,000만원 1억원 범위에서 개인의 경력과 역량에 따라 협의를 거쳐 결정   근무 장소 : 8호선 문정역에서 걸어서 5분 이내에 위치한 초역세권 사무실(3호선 가락시장역도 도보 10분 이내) ## 복지와 혜택  개발 장비 지원(pro급 맥북  4K모니터)  업무에 필요한 유료 소프트웨어 구매  커피 머신 구비 및 간식 무제한 제공  시간 외 근무가 2시간 이상일 시 야근 식대 제공  월 주차비 100% 지원  전체 회식, 팀 회식비 지원  눈치 보지 않고 연차, 반차 사용  경조사비 지원  명절 선물  5년 단위 장기 근속자 포상(상여금, 휴가)  연말 상여금##  서류 접수  1차 면접(직무 면접)  2차 면접(문화 적합성 면접)  처우 협의  최종 합격 ##  위의 채용 절차는 상황에 따라 변경될 수 있습니다.   면접 대상자에게는 별도로 연락을 드립니다.## nan## 5135## ['GCP', 'Git', 'Django', 'React', 'AWS', 'Flask', 'Python', 'AZURE', 'Docker', 'Flutter']## ['FULL_TIME']## ['경력']## 서울 송파구 송파대로 201 A동 1014호## True## 3## 웹 풀스택 개발자## [False, 5, 7, 4, False] \"}, {'role': 'assistant', 'content': 'GCP, Git, Django, React, AWS, Flask, Python, AZURE, Docker, Flutter, 웹 풀스택 개발자,  AI, LLM 기반의 응용 서비스, 솔루션 신규 개발 프로젝트의 개발 파트를 리딩합니다.  AI Solution Lab의 개발 업무를 리딩하고 실무 개발에 앞장서 참여합니다.  안정적인 서비스 제공을 위한 시스템 아키텍쳐를 탄탄하게 설계하고 개발합니다.  신규 개발 프로젝트의 크로스 플랫폼 웹/앱 풀스택 개발과 시스템 설계, 유지 보수에 참여합니다.'}]}\n"
     ]
    }
   ],
   "source": [
    "training_df = contents_df.loc[0:100]\n",
    "\n",
    "# apply the prepare_example_conversation function to each row of the training_df\n",
    "training_data = training_df.apply(prepare_example_conversation, axis=1).tolist()\n",
    "\n",
    "for example in training_data[:5]:\n",
    "    print(example)"
   ]
  },
  {
   "cell_type": "code",
   "execution_count": 61,
   "metadata": {},
   "outputs": [],
   "source": [
    "validation_df = contents_df.loc[101:200]\n",
    "validation_data = validation_df.apply(prepare_example_conversation, axis=1).tolist()"
   ]
  },
  {
   "cell_type": "markdown",
   "metadata": {},
   "source": [
    "### 데이터들 임시 저장!"
   ]
  },
  {
   "cell_type": "code",
   "execution_count": 62,
   "metadata": {},
   "outputs": [],
   "source": [
    "def write_jsonl(data_list: list, filename: str) -> None:\n",
    "    with open(filename, \"w\") as out:\n",
    "        for ddict in data_list:\n",
    "            jout = json.dumps(ddict) + \"\\n\"\n",
    "            out.write(jout)"
   ]
  },
  {
   "cell_type": "code",
   "execution_count": 63,
   "metadata": {},
   "outputs": [],
   "source": [
    "training_file_name = \"tmp_job_finetune_training.jsonl\"\n",
    "write_jsonl(training_data, training_file_name)\n",
    "\n",
    "validation_file_name = \"tmp_job_finetune_validation.jsonl\"\n",
    "write_jsonl(validation_data, validation_file_name)"
   ]
  },
  {
   "cell_type": "code",
   "execution_count": 15,
   "metadata": {},
   "outputs": [
    {
     "name": "stderr",
     "output_type": "stream",
     "text": [
      "'head'��(��) ���� �Ǵ� �ܺ� ����, ������ �� �ִ� ���α׷�, �Ǵ�\n",
      "��ġ ������ �ƴմϴ�.\n"
     ]
    }
   ],
   "source": [
    "!head -n 5 tmp_recipe_finetune_training.jsonl\n"
   ]
  },
  {
   "cell_type": "markdown",
   "metadata": {},
   "source": [
    "### Training 파일들과 Validation 파일들을 둘 다 파일로 집어 넣음"
   ]
  },
  {
   "cell_type": "code",
   "execution_count": 72,
   "metadata": {},
   "outputs": [
    {
     "name": "stdout",
     "output_type": "stream",
     "text": [
      "Training file ID: file-WRRXqGbeKbZi0OldOUi5FEA4\n",
      "Validation file ID: file-UaF8OR8g0hjvn7bZFyFLuAtQ\n"
     ]
    }
   ],
   "source": [
    "with open(training_file_name, \"rb\") as training_fd:\n",
    "    training_response = openai.files.create(\n",
    "        file=training_fd, purpose=\"fine-tune\"\n",
    "    )\n",
    "\n",
    "training_file_id = training_response.id\n",
    "\n",
    "with open(validation_file_name, \"rb\") as validation_fd:\n",
    "    validation_response = openai.files.create(\n",
    "        file=validation_fd, purpose=\"fine-tune\"\n",
    "    )\n",
    "validation_file_id = validation_response.id\n",
    "\n",
    "print(\"Training file ID:\", training_file_id)\n",
    "print(\"Validation file ID:\", validation_file_id)"
   ]
  },
  {
   "cell_type": "code",
   "execution_count": 73,
   "metadata": {},
   "outputs": [
    {
     "name": "stdout",
     "output_type": "stream",
     "text": [
      "Job ID: ftjob-7e4fAnrbFsb4IA0tISWhedjU\n",
      "Status: validating_files\n"
     ]
    }
   ],
   "source": [
    "response = openai.fine_tuning.jobs.create(\n",
    "    training_file=training_file_id,\n",
    "    validation_file=validation_file_id,\n",
    "    model=\"gpt-3.5-turbo\",\n",
    "    suffix=\"job-position\",\n",
    ")\n",
    "\n",
    "job_id = response.id\n",
    "\n",
    "print(\"Job ID:\", response.id)\n",
    "print(\"Status:\", response.status)\n"
   ]
  },
  {
   "cell_type": "markdown",
   "metadata": {},
   "source": [
    "Job ID: ftjob-wFspY1N9VVybdBN59xj2t88c"
   ]
  },
  {
   "cell_type": "code",
   "execution_count": 84,
   "metadata": {},
   "outputs": [
    {
     "name": "stdout",
     "output_type": "stream",
     "text": [
      "Created fine-tuning job: ftjob-7e4fAnrbFsb4IA0tISWhedjU\n",
      "Validating training file: file-WRRXqGbeKbZi0OldOUi5FEA4 and validation file: file-UaF8OR8g0hjvn7bZFyFLuAtQ\n",
      "File file-WRRXqGbeKbZi0OldOUi5FEA4 contains examples greater than the supported context size for model `gpt-3.5-turbo-0613` (4096 tokens)\n",
      "Files validated, moving job to queued state\n",
      "Fine-tuning job started\n",
      "The job failed due to an internal error, re-enqueued for retry\n"
     ]
    }
   ],
   "source": [
    "response = openai.fine_tuning.jobs.list_events(job_id)\n",
    "\n",
    "events = response.data\n",
    "events.reverse()\n",
    "\n",
    "for event in events:\n",
    "    print(event.message)"
   ]
  },
  {
   "cell_type": "code",
   "execution_count": 78,
   "metadata": {},
   "outputs": [
    {
     "ename": "RuntimeError",
     "evalue": "Fine-tuned model ID not found. Your job has likely not been completed yet.",
     "output_type": "error",
     "traceback": [
      "\u001b[1;31m---------------------------------------------------------------------------\u001b[0m",
      "\u001b[1;31mRuntimeError\u001b[0m                              Traceback (most recent call last)",
      "Cell \u001b[1;32mIn[78], line 5\u001b[0m\n\u001b[0;32m      2\u001b[0m fine_tuned_model_id \u001b[38;5;241m=\u001b[39m response\u001b[38;5;241m.\u001b[39mfine_tuned_model\n\u001b[0;32m      4\u001b[0m \u001b[38;5;28;01mif\u001b[39;00m fine_tuned_model_id \u001b[38;5;129;01mis\u001b[39;00m \u001b[38;5;28;01mNone\u001b[39;00m: \n\u001b[1;32m----> 5\u001b[0m     \u001b[38;5;28;01mraise\u001b[39;00m \u001b[38;5;167;01mRuntimeError\u001b[39;00m(\u001b[38;5;124m\"\u001b[39m\u001b[38;5;124mFine-tuned model ID not found. Your job has likely not been completed yet.\u001b[39m\u001b[38;5;124m\"\u001b[39m)\n\u001b[0;32m      7\u001b[0m \u001b[38;5;28mprint\u001b[39m(\u001b[38;5;124m\"\u001b[39m\u001b[38;5;124mFine-tuned model ID:\u001b[39m\u001b[38;5;124m\"\u001b[39m, fine_tuned_model_id)\n",
      "\u001b[1;31mRuntimeError\u001b[0m: Fine-tuned model ID not found. Your job has likely not been completed yet."
     ]
    }
   ],
   "source": [
    "response = openai.fine_tuning.jobs.retrieve(job_id)\n",
    "fine_tuned_model_id = response.fine_tuned_model\n",
    "\n",
    "if fine_tuned_model_id is None: \n",
    "    raise RuntimeError(\"Fine-tuned model ID not found. Your job has likely not been completed yet.\")\n",
    "\n",
    "print(\"Fine-tuned model ID:\", fine_tuned_model_id)"
   ]
  },
  {
   "cell_type": "code",
   "execution_count": 58,
   "metadata": {},
   "outputs": [
    {
     "name": "stdout",
     "output_type": "stream",
     "text": [
      "[{'content': 'You are a helpful recipe assistant. You are to extract the '\n",
      "             'necessary IT recruitment related information from the given '\n",
      "             'information.',\n",
      "  'role': 'system'},\n",
      " {'content': 'Title: Cloud Back-End 개발자\\n'\n",
      "             '\\\\information: 22291## 이우소프트## 팀 소개  이우소프트의 개발실은 치과 진단용 장비를 통해 '\n",
      "             '얻은 이미지 정보를 처리하는 다양한 소프트웨어를 개발하는 이우소프트의 핵심 부서로, 17명이 근무하고 있습니다.  '\n",
      "             '개발실은 이우소프트의 Desktop/Web,Cloud 기반 진단 SW 뿐 아니라, 진단 데이터를 관리하는 서버군 '\n",
      "             '제품, 그리고 치과 업무가 원활하게 진행될 수 있도록 기공소 연계 SW, 소모품 주문 SW 등 다양한 소프트웨어를 '\n",
      "             '개발하고 있습니다.  이번에 채용하는 Desktop GUI App 개발자는 이우소프트에서 개발 중인 차세대 진단 '\n",
      "             '소프트웨어를 중심으로 기타 다양한 Desktop 기반 GUI App들을 개발하시게 됩니다.  ## 개발실장 '\n",
      "             'Elly의 한 마디  \"이우소프트의 개발실은 항상 새로운 제품과 영역에 도전합니다. 지금 이 순간도 Desktop '\n",
      "             '기반 SW에서 Web/Cloud 기반 SW 영역으로 도전하는 과정이죠. 이런 과정에서 재미있게 새로운 영역과 기술에 '\n",
      "             '관심을 가지고, 학습하고, 의견을 내며 주도적으로 일하시는 분이셨으면 좋겠어요.   또한, 저희 Product는 '\n",
      "             '민감한 의료 정보를 다루는 SW인만큼, 사전 설계와 Spec 정의를 굉장히 중요하게 생각하고, 프로세스에 따라 '\n",
      "             '명확하게 정리합니다. 새로 함께 하실 분도 이런 중요성에 공감하시는 분이라면 좋겠어요.   개발 역량 뿐 아니라 '\n",
      "             '고유 영역 지식(의료 데이터 등)을 나의 경쟁력으로 만들고 싶으신 분, 그리고 동료들과 함께 지식을 나누고, 어려운 '\n",
      "             '점을 도와주는 성향이신 분이라면 더욱 좋겠습니다. 함께 일하게 되는 날을 기다리고 있겠습니다! :D\" ##  '\n",
      "             '이우소프트, 그리고 우리가 일하는 방식  이우소프트는 글로벌 헬스케어 그룹 바텍 네트웍스의 덴탈 SW 전문 기업으로 '\n",
      "             '치과 영상 진단 전문 SW 분야 국내 1위, 글로벌 시장 Top tier를 차지하고 있습니다. 국내에서는 약 '\n",
      "             '70%의 치과가 이우소프트의 SW를 사용하고 있으며, 글로벌 시장에서는 100여 개 국가의 100,000여 개 치과 '\n",
      "             '병의원에 제품을 공급하고 있습니다. 이우소프트는 행복을 추구하는 바텍 네트웍스의 이념을 바탕으로, 새로운 기술과 '\n",
      "             '제품을 통해 의료현장의 편의성을 높이고, 결과적으로 더 나은 세상을 만들기 위해 노력하고 있습니다. 그 결과, '\n",
      "             '이우소프트는 대한민국 SW 기술대상 과기정통부장관상(AI 적용 의료영상 솔루션) 수상 뿐 아니라, 세계 최고의 '\n",
      "             '의료기술 액셀러레이터 메드텍 이노베이터가 주최하는 메드텍 쇼케이스에서 한국 기업 중 유일하게 Top 20에 선정되어 '\n",
      "             '기술력과 글로벌 성장 가능성을 인정받았습니다. ##  이런 이우소프트의 바탕에는 투명, 공유, 협업을 기반으로 한 '\n",
      "             '효율적이고 수평적인 일하는 방식이 녹아 있습니다. 1. 투명 : 이우소프트의 지식과 정보는 모든 직원들에게 '\n",
      "             '공개됩니다. 업무 시스템을 통해 진행 과정은 투명하게 공개되고, 역할은 명확히 정의합니다. 2. 공유 : '\n",
      "             '이우소프트의 모든 지식과 정보는 지식관리 시스템을 통해 정리/공유됩니다. 3. 협업 : 투명한 업무 절차와 공유된 '\n",
      "             '정보를 바탕으로 이우소프트는 사내/외 관계자와 효율적으로 함께 일합니다. ##  업무 Tool로는 Jira, '\n",
      "             'Office 365, Confluence를 사용하며 유연하게 일하고, 전문성을 기반으로 자유로운 의견 교류가 '\n",
      "             '이어지도록 상호간 영어 닉네임을 사용하고 있습니다.##  Cloud 기반의 Dental Image Storage '\n",
      "             'Service Backend 개발  Cloud 기반의 Authentication Service Backend '\n",
      "             '개발   기타 Dental Service 관련 Backend 개발##  Backend 기술(Node.JS, '\n",
      "             'Express/Koa, Rest API, DB) 지식 및 활용 경험  Web 기술(HTML, CSS, '\n",
      "             'Javascript/Typescript) 지식 및 활용 경험  개발간 발생한 문제를 논리적인 로직에 따라 해결(방안 '\n",
      "             '선정 및 실행)한 경험##  DB/Rest API 설계 경험  1개 이상의 Cloud Platform(AWS, '\n",
      "             'Azure, GCP 등) 활용 경험  제품 설계/개발/출시/운영 fullcycle 경험  컴퓨터 공학 전공자  '\n",
      "             'Dental/Medical 관련 분야 SW 개발 경험## Focus  최신 사양 PC 및 듀얼 모니터 제공  '\n",
      "             '유연근무(재택근무와 시차출근제 운영)  양재역 인근 Smart Work Center(원격근무 거점) 운영  사내 '\n",
      "             '식당 식사 지원(본사) / 식대 지원(양재 스마트워크 센터)  사내 카페테리아, 헬스장 운영  기숙사, 통근버스, '\n",
      "             '카풀제도 운영  사내 어린이집 운영 ## Growth & Life  리프레쉬 휴가(상/하반기)  회사 휴양소 '\n",
      "             '보유(리솜)  장기근속자 포상  주택자금 대출제도  본인 종합 건강검진 지원  경조사 지원(결혼, 장례, 출산 '\n",
      "             '등)  어학 교육 지원  직무 교육/도서 지원  학습조직 운영  사내 복지 쇼핑몰 운영##  근무지  동탄 '\n",
      "             '본사/양재 원격 근무지 중 선택 가능  동탄 본사 : 경기도 화성시 삼성1로2길 13(석우동), 바텍네트웍스동 '\n",
      "             '8층  양재 스마트워크센터 : 양재역 5번 출구 인근 (도보 100m 이내) ##  채용 절차  서류 검토 > '\n",
      "             '1차(직무) 면접 > 2차(인성) 면접 > 3차(CEO) 면접 > 최종 합격  화상 면접(Microsoft '\n",
      "             'Teams 활용) / 대면 면접을 유동적으로 진행합니다.  입사지원 서류에 허위사실이 발견될 경우, 채용 확정 '\n",
      "             \"이후라도 채용이 취소될 수 있습니다.## nan## 504## ['Jest', 'TypeScript', \"\n",
      "             \"'MySQL', 'Node.js', 'ExpressJS', 'Mocha', 'HTML5', 'NestJS', \"\n",
      "             \"'PostgreSQL', 'CSS 3']## ['FULL_TIME']## ['경력']## 경기 화성시 삼성1로2길 \"\n",
      "             '13, 8층 801호## True## 1## 서버/백엔드 개발자## [False, 2, 6, 1, False] ',\n",
      "  'role': 'user'}]\n"
     ]
    }
   ],
   "source": [
    "test_df = contents_df.loc[201:300]\n",
    "test_row = test_df.iloc[0]\n",
    "test_messages = []\n",
    "test_messages.append({\"role\": \"system\", \"content\": system_message})\n",
    "user_message = create_user_message(test_row)\n",
    "test_messages.append({\"role\": \"user\", \"content\": create_user_message(test_row)})\n",
    "\n",
    "pprint(test_messages)"
   ]
  },
  {
   "cell_type": "code",
   "execution_count": 75,
   "metadata": {},
   "outputs": [
    {
     "ename": "NotFoundError",
     "evalue": "Error code: 404 - {'error': {'message': 'The model `ft:gpt-3.5-turbo-0613:sesac:job-position:8lCAJbqk` does not exist or you do not have access to it.', 'type': 'invalid_request_error', 'param': None, 'code': 'model_not_found'}}",
     "output_type": "error",
     "traceback": [
      "\u001b[1;31m---------------------------------------------------------------------------\u001b[0m",
      "\u001b[1;31mNotFoundError\u001b[0m                             Traceback (most recent call last)",
      "Cell \u001b[1;32mIn[75], line 1\u001b[0m\n\u001b[1;32m----> 1\u001b[0m response \u001b[38;5;241m=\u001b[39m \u001b[43mopenai\u001b[49m\u001b[38;5;241;43m.\u001b[39;49m\u001b[43mchat\u001b[49m\u001b[38;5;241;43m.\u001b[39;49m\u001b[43mcompletions\u001b[49m\u001b[38;5;241;43m.\u001b[39;49m\u001b[43mcreate\u001b[49m\u001b[43m(\u001b[49m\n\u001b[0;32m      2\u001b[0m \u001b[43m    \u001b[49m\u001b[43mmodel\u001b[49m\u001b[38;5;241;43m=\u001b[39;49m\u001b[43mfine_tuned_model_id\u001b[49m\u001b[43m,\u001b[49m\u001b[43m \u001b[49m\u001b[43mmessages\u001b[49m\u001b[38;5;241;43m=\u001b[39;49m\u001b[43mtest_messages\u001b[49m\u001b[43m,\u001b[49m\u001b[43m \u001b[49m\u001b[43mtemperature\u001b[49m\u001b[38;5;241;43m=\u001b[39;49m\u001b[38;5;241;43m0\u001b[39;49m\u001b[43m,\u001b[49m\u001b[43m \u001b[49m\u001b[43mmax_tokens\u001b[49m\u001b[38;5;241;43m=\u001b[39;49m\u001b[38;5;241;43m500\u001b[39;49m\n\u001b[0;32m      3\u001b[0m \u001b[43m)\u001b[49m\n\u001b[0;32m      4\u001b[0m \u001b[38;5;28mprint\u001b[39m(response\u001b[38;5;241m.\u001b[39mchoices[\u001b[38;5;241m0\u001b[39m]\u001b[38;5;241m.\u001b[39mmessage\u001b[38;5;241m.\u001b[39mcontent)\n",
      "File \u001b[1;32m~\\AppData\\Roaming\\Python\\Python312\\site-packages\\openai\\_utils\\_utils.py:271\u001b[0m, in \u001b[0;36mrequired_args.<locals>.inner.<locals>.wrapper\u001b[1;34m(*args, **kwargs)\u001b[0m\n\u001b[0;32m    269\u001b[0m             msg \u001b[38;5;241m=\u001b[39m \u001b[38;5;124mf\u001b[39m\u001b[38;5;124m\"\u001b[39m\u001b[38;5;124mMissing required argument: \u001b[39m\u001b[38;5;132;01m{\u001b[39;00mquote(missing[\u001b[38;5;241m0\u001b[39m])\u001b[38;5;132;01m}\u001b[39;00m\u001b[38;5;124m\"\u001b[39m\n\u001b[0;32m    270\u001b[0m     \u001b[38;5;28;01mraise\u001b[39;00m \u001b[38;5;167;01mTypeError\u001b[39;00m(msg)\n\u001b[1;32m--> 271\u001b[0m \u001b[38;5;28;01mreturn\u001b[39;00m \u001b[43mfunc\u001b[49m\u001b[43m(\u001b[49m\u001b[38;5;241;43m*\u001b[39;49m\u001b[43margs\u001b[49m\u001b[43m,\u001b[49m\u001b[43m \u001b[49m\u001b[38;5;241;43m*\u001b[39;49m\u001b[38;5;241;43m*\u001b[39;49m\u001b[43mkwargs\u001b[49m\u001b[43m)\u001b[49m\n",
      "File \u001b[1;32m~\\AppData\\Roaming\\Python\\Python312\\site-packages\\openai\\resources\\chat\\completions.py:648\u001b[0m, in \u001b[0;36mCompletions.create\u001b[1;34m(self, messages, model, frequency_penalty, function_call, functions, logit_bias, logprobs, max_tokens, n, presence_penalty, response_format, seed, stop, stream, temperature, tool_choice, tools, top_logprobs, top_p, user, extra_headers, extra_query, extra_body, timeout)\u001b[0m\n\u001b[0;32m    599\u001b[0m \u001b[38;5;129m@required_args\u001b[39m([\u001b[38;5;124m\"\u001b[39m\u001b[38;5;124mmessages\u001b[39m\u001b[38;5;124m\"\u001b[39m, \u001b[38;5;124m\"\u001b[39m\u001b[38;5;124mmodel\u001b[39m\u001b[38;5;124m\"\u001b[39m], [\u001b[38;5;124m\"\u001b[39m\u001b[38;5;124mmessages\u001b[39m\u001b[38;5;124m\"\u001b[39m, \u001b[38;5;124m\"\u001b[39m\u001b[38;5;124mmodel\u001b[39m\u001b[38;5;124m\"\u001b[39m, \u001b[38;5;124m\"\u001b[39m\u001b[38;5;124mstream\u001b[39m\u001b[38;5;124m\"\u001b[39m])\n\u001b[0;32m    600\u001b[0m \u001b[38;5;28;01mdef\u001b[39;00m \u001b[38;5;21mcreate\u001b[39m(\n\u001b[0;32m    601\u001b[0m     \u001b[38;5;28mself\u001b[39m,\n\u001b[1;32m   (...)\u001b[0m\n\u001b[0;32m    646\u001b[0m     timeout: \u001b[38;5;28mfloat\u001b[39m \u001b[38;5;241m|\u001b[39m httpx\u001b[38;5;241m.\u001b[39mTimeout \u001b[38;5;241m|\u001b[39m \u001b[38;5;28;01mNone\u001b[39;00m \u001b[38;5;241m|\u001b[39m NotGiven \u001b[38;5;241m=\u001b[39m NOT_GIVEN,\n\u001b[0;32m    647\u001b[0m ) \u001b[38;5;241m-\u001b[39m\u001b[38;5;241m>\u001b[39m ChatCompletion \u001b[38;5;241m|\u001b[39m Stream[ChatCompletionChunk]:\n\u001b[1;32m--> 648\u001b[0m     \u001b[38;5;28;01mreturn\u001b[39;00m \u001b[38;5;28;43mself\u001b[39;49m\u001b[38;5;241;43m.\u001b[39;49m\u001b[43m_post\u001b[49m\u001b[43m(\u001b[49m\n\u001b[0;32m    649\u001b[0m \u001b[43m        \u001b[49m\u001b[38;5;124;43m\"\u001b[39;49m\u001b[38;5;124;43m/chat/completions\u001b[39;49m\u001b[38;5;124;43m\"\u001b[39;49m\u001b[43m,\u001b[49m\n\u001b[0;32m    650\u001b[0m \u001b[43m        \u001b[49m\u001b[43mbody\u001b[49m\u001b[38;5;241;43m=\u001b[39;49m\u001b[43mmaybe_transform\u001b[49m\u001b[43m(\u001b[49m\n\u001b[0;32m    651\u001b[0m \u001b[43m            \u001b[49m\u001b[43m{\u001b[49m\n\u001b[0;32m    652\u001b[0m \u001b[43m                \u001b[49m\u001b[38;5;124;43m\"\u001b[39;49m\u001b[38;5;124;43mmessages\u001b[39;49m\u001b[38;5;124;43m\"\u001b[39;49m\u001b[43m:\u001b[49m\u001b[43m \u001b[49m\u001b[43mmessages\u001b[49m\u001b[43m,\u001b[49m\n\u001b[0;32m    653\u001b[0m \u001b[43m                \u001b[49m\u001b[38;5;124;43m\"\u001b[39;49m\u001b[38;5;124;43mmodel\u001b[39;49m\u001b[38;5;124;43m\"\u001b[39;49m\u001b[43m:\u001b[49m\u001b[43m \u001b[49m\u001b[43mmodel\u001b[49m\u001b[43m,\u001b[49m\n\u001b[0;32m    654\u001b[0m \u001b[43m                \u001b[49m\u001b[38;5;124;43m\"\u001b[39;49m\u001b[38;5;124;43mfrequency_penalty\u001b[39;49m\u001b[38;5;124;43m\"\u001b[39;49m\u001b[43m:\u001b[49m\u001b[43m \u001b[49m\u001b[43mfrequency_penalty\u001b[49m\u001b[43m,\u001b[49m\n\u001b[0;32m    655\u001b[0m \u001b[43m                \u001b[49m\u001b[38;5;124;43m\"\u001b[39;49m\u001b[38;5;124;43mfunction_call\u001b[39;49m\u001b[38;5;124;43m\"\u001b[39;49m\u001b[43m:\u001b[49m\u001b[43m \u001b[49m\u001b[43mfunction_call\u001b[49m\u001b[43m,\u001b[49m\n\u001b[0;32m    656\u001b[0m \u001b[43m                \u001b[49m\u001b[38;5;124;43m\"\u001b[39;49m\u001b[38;5;124;43mfunctions\u001b[39;49m\u001b[38;5;124;43m\"\u001b[39;49m\u001b[43m:\u001b[49m\u001b[43m \u001b[49m\u001b[43mfunctions\u001b[49m\u001b[43m,\u001b[49m\n\u001b[0;32m    657\u001b[0m \u001b[43m                \u001b[49m\u001b[38;5;124;43m\"\u001b[39;49m\u001b[38;5;124;43mlogit_bias\u001b[39;49m\u001b[38;5;124;43m\"\u001b[39;49m\u001b[43m:\u001b[49m\u001b[43m \u001b[49m\u001b[43mlogit_bias\u001b[49m\u001b[43m,\u001b[49m\n\u001b[0;32m    658\u001b[0m \u001b[43m                \u001b[49m\u001b[38;5;124;43m\"\u001b[39;49m\u001b[38;5;124;43mlogprobs\u001b[39;49m\u001b[38;5;124;43m\"\u001b[39;49m\u001b[43m:\u001b[49m\u001b[43m \u001b[49m\u001b[43mlogprobs\u001b[49m\u001b[43m,\u001b[49m\n\u001b[0;32m    659\u001b[0m \u001b[43m                \u001b[49m\u001b[38;5;124;43m\"\u001b[39;49m\u001b[38;5;124;43mmax_tokens\u001b[39;49m\u001b[38;5;124;43m\"\u001b[39;49m\u001b[43m:\u001b[49m\u001b[43m \u001b[49m\u001b[43mmax_tokens\u001b[49m\u001b[43m,\u001b[49m\n\u001b[0;32m    660\u001b[0m \u001b[43m                \u001b[49m\u001b[38;5;124;43m\"\u001b[39;49m\u001b[38;5;124;43mn\u001b[39;49m\u001b[38;5;124;43m\"\u001b[39;49m\u001b[43m:\u001b[49m\u001b[43m \u001b[49m\u001b[43mn\u001b[49m\u001b[43m,\u001b[49m\n\u001b[0;32m    661\u001b[0m \u001b[43m                \u001b[49m\u001b[38;5;124;43m\"\u001b[39;49m\u001b[38;5;124;43mpresence_penalty\u001b[39;49m\u001b[38;5;124;43m\"\u001b[39;49m\u001b[43m:\u001b[49m\u001b[43m \u001b[49m\u001b[43mpresence_penalty\u001b[49m\u001b[43m,\u001b[49m\n\u001b[0;32m    662\u001b[0m \u001b[43m                \u001b[49m\u001b[38;5;124;43m\"\u001b[39;49m\u001b[38;5;124;43mresponse_format\u001b[39;49m\u001b[38;5;124;43m\"\u001b[39;49m\u001b[43m:\u001b[49m\u001b[43m \u001b[49m\u001b[43mresponse_format\u001b[49m\u001b[43m,\u001b[49m\n\u001b[0;32m    663\u001b[0m \u001b[43m                \u001b[49m\u001b[38;5;124;43m\"\u001b[39;49m\u001b[38;5;124;43mseed\u001b[39;49m\u001b[38;5;124;43m\"\u001b[39;49m\u001b[43m:\u001b[49m\u001b[43m \u001b[49m\u001b[43mseed\u001b[49m\u001b[43m,\u001b[49m\n\u001b[0;32m    664\u001b[0m \u001b[43m                \u001b[49m\u001b[38;5;124;43m\"\u001b[39;49m\u001b[38;5;124;43mstop\u001b[39;49m\u001b[38;5;124;43m\"\u001b[39;49m\u001b[43m:\u001b[49m\u001b[43m \u001b[49m\u001b[43mstop\u001b[49m\u001b[43m,\u001b[49m\n\u001b[0;32m    665\u001b[0m \u001b[43m                \u001b[49m\u001b[38;5;124;43m\"\u001b[39;49m\u001b[38;5;124;43mstream\u001b[39;49m\u001b[38;5;124;43m\"\u001b[39;49m\u001b[43m:\u001b[49m\u001b[43m \u001b[49m\u001b[43mstream\u001b[49m\u001b[43m,\u001b[49m\n\u001b[0;32m    666\u001b[0m \u001b[43m                \u001b[49m\u001b[38;5;124;43m\"\u001b[39;49m\u001b[38;5;124;43mtemperature\u001b[39;49m\u001b[38;5;124;43m\"\u001b[39;49m\u001b[43m:\u001b[49m\u001b[43m \u001b[49m\u001b[43mtemperature\u001b[49m\u001b[43m,\u001b[49m\n\u001b[0;32m    667\u001b[0m \u001b[43m                \u001b[49m\u001b[38;5;124;43m\"\u001b[39;49m\u001b[38;5;124;43mtool_choice\u001b[39;49m\u001b[38;5;124;43m\"\u001b[39;49m\u001b[43m:\u001b[49m\u001b[43m \u001b[49m\u001b[43mtool_choice\u001b[49m\u001b[43m,\u001b[49m\n\u001b[0;32m    668\u001b[0m \u001b[43m                \u001b[49m\u001b[38;5;124;43m\"\u001b[39;49m\u001b[38;5;124;43mtools\u001b[39;49m\u001b[38;5;124;43m\"\u001b[39;49m\u001b[43m:\u001b[49m\u001b[43m \u001b[49m\u001b[43mtools\u001b[49m\u001b[43m,\u001b[49m\n\u001b[0;32m    669\u001b[0m \u001b[43m                \u001b[49m\u001b[38;5;124;43m\"\u001b[39;49m\u001b[38;5;124;43mtop_logprobs\u001b[39;49m\u001b[38;5;124;43m\"\u001b[39;49m\u001b[43m:\u001b[49m\u001b[43m \u001b[49m\u001b[43mtop_logprobs\u001b[49m\u001b[43m,\u001b[49m\n\u001b[0;32m    670\u001b[0m \u001b[43m                \u001b[49m\u001b[38;5;124;43m\"\u001b[39;49m\u001b[38;5;124;43mtop_p\u001b[39;49m\u001b[38;5;124;43m\"\u001b[39;49m\u001b[43m:\u001b[49m\u001b[43m \u001b[49m\u001b[43mtop_p\u001b[49m\u001b[43m,\u001b[49m\n\u001b[0;32m    671\u001b[0m \u001b[43m                \u001b[49m\u001b[38;5;124;43m\"\u001b[39;49m\u001b[38;5;124;43muser\u001b[39;49m\u001b[38;5;124;43m\"\u001b[39;49m\u001b[43m:\u001b[49m\u001b[43m \u001b[49m\u001b[43muser\u001b[49m\u001b[43m,\u001b[49m\n\u001b[0;32m    672\u001b[0m \u001b[43m            \u001b[49m\u001b[43m}\u001b[49m\u001b[43m,\u001b[49m\n\u001b[0;32m    673\u001b[0m \u001b[43m            \u001b[49m\u001b[43mcompletion_create_params\u001b[49m\u001b[38;5;241;43m.\u001b[39;49m\u001b[43mCompletionCreateParams\u001b[49m\u001b[43m,\u001b[49m\n\u001b[0;32m    674\u001b[0m \u001b[43m        \u001b[49m\u001b[43m)\u001b[49m\u001b[43m,\u001b[49m\n\u001b[0;32m    675\u001b[0m \u001b[43m        \u001b[49m\u001b[43moptions\u001b[49m\u001b[38;5;241;43m=\u001b[39;49m\u001b[43mmake_request_options\u001b[49m\u001b[43m(\u001b[49m\n\u001b[0;32m    676\u001b[0m \u001b[43m            \u001b[49m\u001b[43mextra_headers\u001b[49m\u001b[38;5;241;43m=\u001b[39;49m\u001b[43mextra_headers\u001b[49m\u001b[43m,\u001b[49m\u001b[43m \u001b[49m\u001b[43mextra_query\u001b[49m\u001b[38;5;241;43m=\u001b[39;49m\u001b[43mextra_query\u001b[49m\u001b[43m,\u001b[49m\u001b[43m \u001b[49m\u001b[43mextra_body\u001b[49m\u001b[38;5;241;43m=\u001b[39;49m\u001b[43mextra_body\u001b[49m\u001b[43m,\u001b[49m\u001b[43m \u001b[49m\u001b[43mtimeout\u001b[49m\u001b[38;5;241;43m=\u001b[39;49m\u001b[43mtimeout\u001b[49m\n\u001b[0;32m    677\u001b[0m \u001b[43m        \u001b[49m\u001b[43m)\u001b[49m\u001b[43m,\u001b[49m\n\u001b[0;32m    678\u001b[0m \u001b[43m        \u001b[49m\u001b[43mcast_to\u001b[49m\u001b[38;5;241;43m=\u001b[39;49m\u001b[43mChatCompletion\u001b[49m\u001b[43m,\u001b[49m\n\u001b[0;32m    679\u001b[0m \u001b[43m        \u001b[49m\u001b[43mstream\u001b[49m\u001b[38;5;241;43m=\u001b[39;49m\u001b[43mstream\u001b[49m\u001b[43m \u001b[49m\u001b[38;5;129;43;01mor\u001b[39;49;00m\u001b[43m \u001b[49m\u001b[38;5;28;43;01mFalse\u001b[39;49;00m\u001b[43m,\u001b[49m\n\u001b[0;32m    680\u001b[0m \u001b[43m        \u001b[49m\u001b[43mstream_cls\u001b[49m\u001b[38;5;241;43m=\u001b[39;49m\u001b[43mStream\u001b[49m\u001b[43m[\u001b[49m\u001b[43mChatCompletionChunk\u001b[49m\u001b[43m]\u001b[49m\u001b[43m,\u001b[49m\n\u001b[0;32m    681\u001b[0m \u001b[43m    \u001b[49m\u001b[43m)\u001b[49m\n",
      "File \u001b[1;32m~\\AppData\\Roaming\\Python\\Python312\\site-packages\\openai\\_base_client.py:1167\u001b[0m, in \u001b[0;36mSyncAPIClient.post\u001b[1;34m(self, path, cast_to, body, options, files, stream, stream_cls)\u001b[0m\n\u001b[0;32m   1153\u001b[0m \u001b[38;5;28;01mdef\u001b[39;00m \u001b[38;5;21mpost\u001b[39m(\n\u001b[0;32m   1154\u001b[0m     \u001b[38;5;28mself\u001b[39m,\n\u001b[0;32m   1155\u001b[0m     path: \u001b[38;5;28mstr\u001b[39m,\n\u001b[1;32m   (...)\u001b[0m\n\u001b[0;32m   1162\u001b[0m     stream_cls: \u001b[38;5;28mtype\u001b[39m[_StreamT] \u001b[38;5;241m|\u001b[39m \u001b[38;5;28;01mNone\u001b[39;00m \u001b[38;5;241m=\u001b[39m \u001b[38;5;28;01mNone\u001b[39;00m,\n\u001b[0;32m   1163\u001b[0m ) \u001b[38;5;241m-\u001b[39m\u001b[38;5;241m>\u001b[39m ResponseT \u001b[38;5;241m|\u001b[39m _StreamT:\n\u001b[0;32m   1164\u001b[0m     opts \u001b[38;5;241m=\u001b[39m FinalRequestOptions\u001b[38;5;241m.\u001b[39mconstruct(\n\u001b[0;32m   1165\u001b[0m         method\u001b[38;5;241m=\u001b[39m\u001b[38;5;124m\"\u001b[39m\u001b[38;5;124mpost\u001b[39m\u001b[38;5;124m\"\u001b[39m, url\u001b[38;5;241m=\u001b[39mpath, json_data\u001b[38;5;241m=\u001b[39mbody, files\u001b[38;5;241m=\u001b[39mto_httpx_files(files), \u001b[38;5;241m*\u001b[39m\u001b[38;5;241m*\u001b[39moptions\n\u001b[0;32m   1166\u001b[0m     )\n\u001b[1;32m-> 1167\u001b[0m     \u001b[38;5;28;01mreturn\u001b[39;00m cast(ResponseT, \u001b[38;5;28;43mself\u001b[39;49m\u001b[38;5;241;43m.\u001b[39;49m\u001b[43mrequest\u001b[49m\u001b[43m(\u001b[49m\u001b[43mcast_to\u001b[49m\u001b[43m,\u001b[49m\u001b[43m \u001b[49m\u001b[43mopts\u001b[49m\u001b[43m,\u001b[49m\u001b[43m \u001b[49m\u001b[43mstream\u001b[49m\u001b[38;5;241;43m=\u001b[39;49m\u001b[43mstream\u001b[49m\u001b[43m,\u001b[49m\u001b[43m \u001b[49m\u001b[43mstream_cls\u001b[49m\u001b[38;5;241;43m=\u001b[39;49m\u001b[43mstream_cls\u001b[49m\u001b[43m)\u001b[49m)\n",
      "File \u001b[1;32m~\\AppData\\Roaming\\Python\\Python312\\site-packages\\openai\\_base_client.py:856\u001b[0m, in \u001b[0;36mSyncAPIClient.request\u001b[1;34m(self, cast_to, options, remaining_retries, stream, stream_cls)\u001b[0m\n\u001b[0;32m    847\u001b[0m \u001b[38;5;28;01mdef\u001b[39;00m \u001b[38;5;21mrequest\u001b[39m(\n\u001b[0;32m    848\u001b[0m     \u001b[38;5;28mself\u001b[39m,\n\u001b[0;32m    849\u001b[0m     cast_to: Type[ResponseT],\n\u001b[1;32m   (...)\u001b[0m\n\u001b[0;32m    854\u001b[0m     stream_cls: \u001b[38;5;28mtype\u001b[39m[_StreamT] \u001b[38;5;241m|\u001b[39m \u001b[38;5;28;01mNone\u001b[39;00m \u001b[38;5;241m=\u001b[39m \u001b[38;5;28;01mNone\u001b[39;00m,\n\u001b[0;32m    855\u001b[0m ) \u001b[38;5;241m-\u001b[39m\u001b[38;5;241m>\u001b[39m ResponseT \u001b[38;5;241m|\u001b[39m _StreamT:\n\u001b[1;32m--> 856\u001b[0m     \u001b[38;5;28;01mreturn\u001b[39;00m \u001b[38;5;28;43mself\u001b[39;49m\u001b[38;5;241;43m.\u001b[39;49m\u001b[43m_request\u001b[49m\u001b[43m(\u001b[49m\n\u001b[0;32m    857\u001b[0m \u001b[43m        \u001b[49m\u001b[43mcast_to\u001b[49m\u001b[38;5;241;43m=\u001b[39;49m\u001b[43mcast_to\u001b[49m\u001b[43m,\u001b[49m\n\u001b[0;32m    858\u001b[0m \u001b[43m        \u001b[49m\u001b[43moptions\u001b[49m\u001b[38;5;241;43m=\u001b[39;49m\u001b[43moptions\u001b[49m\u001b[43m,\u001b[49m\n\u001b[0;32m    859\u001b[0m \u001b[43m        \u001b[49m\u001b[43mstream\u001b[49m\u001b[38;5;241;43m=\u001b[39;49m\u001b[43mstream\u001b[49m\u001b[43m,\u001b[49m\n\u001b[0;32m    860\u001b[0m \u001b[43m        \u001b[49m\u001b[43mstream_cls\u001b[49m\u001b[38;5;241;43m=\u001b[39;49m\u001b[43mstream_cls\u001b[49m\u001b[43m,\u001b[49m\n\u001b[0;32m    861\u001b[0m \u001b[43m        \u001b[49m\u001b[43mremaining_retries\u001b[49m\u001b[38;5;241;43m=\u001b[39;49m\u001b[43mremaining_retries\u001b[49m\u001b[43m,\u001b[49m\n\u001b[0;32m    862\u001b[0m \u001b[43m    \u001b[49m\u001b[43m)\u001b[49m\n",
      "File \u001b[1;32m~\\AppData\\Roaming\\Python\\Python312\\site-packages\\openai\\_base_client.py:947\u001b[0m, in \u001b[0;36mSyncAPIClient._request\u001b[1;34m(self, cast_to, options, remaining_retries, stream, stream_cls)\u001b[0m\n\u001b[0;32m    944\u001b[0m         err\u001b[38;5;241m.\u001b[39mresponse\u001b[38;5;241m.\u001b[39mread()\n\u001b[0;32m    946\u001b[0m     log\u001b[38;5;241m.\u001b[39mdebug(\u001b[38;5;124m\"\u001b[39m\u001b[38;5;124mRe-raising status error\u001b[39m\u001b[38;5;124m\"\u001b[39m)\n\u001b[1;32m--> 947\u001b[0m     \u001b[38;5;28;01mraise\u001b[39;00m \u001b[38;5;28mself\u001b[39m\u001b[38;5;241m.\u001b[39m_make_status_error_from_response(err\u001b[38;5;241m.\u001b[39mresponse) \u001b[38;5;28;01mfrom\u001b[39;00m \u001b[38;5;28;01mNone\u001b[39;00m\n\u001b[0;32m    949\u001b[0m \u001b[38;5;28;01mreturn\u001b[39;00m \u001b[38;5;28mself\u001b[39m\u001b[38;5;241m.\u001b[39m_process_response(\n\u001b[0;32m    950\u001b[0m     cast_to\u001b[38;5;241m=\u001b[39mcast_to,\n\u001b[0;32m    951\u001b[0m     options\u001b[38;5;241m=\u001b[39moptions,\n\u001b[1;32m   (...)\u001b[0m\n\u001b[0;32m    954\u001b[0m     stream_cls\u001b[38;5;241m=\u001b[39mstream_cls,\n\u001b[0;32m    955\u001b[0m )\n",
      "\u001b[1;31mNotFoundError\u001b[0m: Error code: 404 - {'error': {'message': 'The model `ft:gpt-3.5-turbo-0613:sesac:job-position:8lCAJbqk` does not exist or you do not have access to it.', 'type': 'invalid_request_error', 'param': None, 'code': 'model_not_found'}}"
     ]
    }
   ],
   "source": [
    "response = openai.chat.completions.create(\n",
    "    model=fine_tuned_model_id, messages=test_messages, temperature=0, max_tokens=500\n",
    ")\n",
    "print(response.choices[0].message.content)"
   ]
  },
  {
   "cell_type": "markdown",
   "metadata": {},
   "source": []
  },
  {
   "cell_type": "code",
   "execution_count": null,
   "metadata": {},
   "outputs": [],
   "source": []
  }
 ],
 "metadata": {
  "kernelspec": {
   "display_name": ".venv",
   "language": "python",
   "name": "python3"
  },
  "language_info": {
   "codemirror_mode": {
    "name": "ipython",
    "version": 3
   },
   "file_extension": ".py",
   "mimetype": "text/x-python",
   "name": "python",
   "nbconvert_exporter": "python",
   "pygments_lexer": "ipython3",
   "version": "3.12.1"
  }
 },
 "nbformat": 4,
 "nbformat_minor": 2
}
